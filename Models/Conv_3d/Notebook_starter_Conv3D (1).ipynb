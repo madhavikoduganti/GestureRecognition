{
 "cells": [
  {
   "cell_type": "markdown",
   "metadata": {},
   "source": [
    "# Gesture Recognition\n",
    "In this group project, you are going to build a 3D Conv model that will be able to predict the 5 gestures correctly. Please import the following libraries to get started."
   ]
  },
  {
   "cell_type": "code",
   "execution_count": 1,
   "metadata": {},
   "outputs": [
    {
     "name": "stderr",
     "output_type": "stream",
     "text": [
      "Using TensorFlow backend.\n"
     ]
    }
   ],
   "source": [
    "import numpy as np\n",
    "import os\n",
    "from scipy.misc import imread, imresize\n",
    "import datetime\n",
    "import os\n",
    "from skimage import transform,io\n",
    "import matplotlib.pyplot as plt\n",
    "%matplotlib inline\n",
    "from keras.models import Sequential, Model\n",
    "from keras.layers import Input, Dense,  Flatten,  BatchNormalization, Activation\n",
    "from keras.layers.convolutional import Conv3D, MaxPooling3D\n",
    "from keras.callbacks import ModelCheckpoint, ReduceLROnPlateau, EarlyStopping\n",
    "from keras import optimizers\n",
    "from tensorflow.keras import regularizers\n",
    "\n"
   ]
  },
  {
   "cell_type": "markdown",
   "metadata": {},
   "source": [
    "We set the random seed so that the results don't vary drastically."
   ]
  },
  {
   "cell_type": "code",
   "execution_count": 2,
   "metadata": {},
   "outputs": [],
   "source": [
    "np.random.seed(30)\n",
    "import random as rn\n",
    "rn.seed(30)\n",
    "from keras import backend as K\n",
    "import tensorflow as tf\n",
    "\n",
    "tf.set_random_seed(30)"
   ]
  },
  {
   "cell_type": "markdown",
   "metadata": {},
   "source": [
    "In this block, you read the folder names for training and validation. You also set the `batch_size` here. Note that you set the batch size in such a way that you are able to use the GPU in full capacity. You keep increasing the batch size until the machine throws an error."
   ]
  },
  {
   "cell_type": "code",
   "execution_count": 3,
   "metadata": {},
   "outputs": [],
   "source": [
    "train_doc = np.random.permutation(open('./Project_data/train.csv').readlines())\n",
    "val_doc = np.random.permutation(open('./Project_data/val.csv').readlines())\n"
   ]
  },
  {
   "cell_type": "code",
   "execution_count": 4,
   "metadata": {},
   "outputs": [],
   "source": [
    "def plot_history(history):\n",
    "    # list all data in history\n",
    "    print(history.history.keys())\n",
    "    # summarize history for accuracy\n",
    "    plt.plot(history.history['categorical_accuracy'])\n",
    "    plt.plot(history.history['val_categorical_accuracy'])\n",
    "    plt.title('model accuracy')\n",
    "    plt.ylabel('accuracy')\n",
    "    plt.xlabel('epoch')\n",
    "    plt.legend(['train', 'val'], loc='upper left')\n",
    "    plt.show()\n",
    "    # summarize history for loss\n",
    "    plt.plot(history.history['loss'])\n",
    "    plt.plot(history.history['val_loss'])\n",
    "    plt.title('model loss')\n",
    "    plt.ylabel('loss')\n",
    "    plt.xlabel('epoch')\n",
    "    plt.legend(['train', 'val'], loc='upper left')\n",
    "    plt.show()"
   ]
  },
  {
   "cell_type": "markdown",
   "metadata": {},
   "source": [
    "## Generator\n",
    "This is one of the most important part of the code. The overall structure of the generator has been given. In the generator, you are going to preprocess the images as you have images of 2 different dimensions as well as create a batch of video frames. You have to experiment with `img_idx`, `y`,`z` and normalization such that you get high accuracy."
   ]
  },
  {
   "cell_type": "code",
   "execution_count": 5,
   "metadata": {},
   "outputs": [],
   "source": [
    "batch_size = 20#experiment with the batch size\n"
   ]
  },
  {
   "cell_type": "code",
   "execution_count": 6,
   "metadata": {},
   "outputs": [],
   "source": [
    "classes = 5 #left swipe, right swipe, thumbs up, thumbs down, stop\n",
    "channel = 3\n",
    "x = 30 # number of frames\n",
    "y = 120 # image width\n",
    "z = 120 # image height\n",
    "\n",
    "def generator(source_path, folder_list, batch_size):\n",
    "    print( 'Source path = ', source_path, '; batch size =', batch_size)\n",
    "    img_idx = [x for x in range(0,x)] #create a list of image numbers you want to use for a particular video\n",
    "    while True:\n",
    "        t = np.random.permutation(folder_list)\n",
    "        num_batches = len(folder_list)//batch_size # calculate the number of batches\n",
    "        for batch in range(num_batches): # we iterate over the number of batches\n",
    "            batch_data = np.zeros((batch_size,x,y,z,channel)) # x is the number of images you use for each video, (y,z) is the final size of the input images and 3 is the number of channels RGB\n",
    "            batch_labels = np.zeros((batch_size,classes)) # batch_labels is the one hot representation of the output\n",
    "            for folder in range(batch_size): # iterate over the batch_size\n",
    "                imgs = os.listdir(source_path+'/'+ t[folder + (batch*batch_size)].split(';')[0]) # read all the images in the folder\n",
    "                for idx,item in enumerate(img_idx): #  Iterate iver the frames/images of a folder to read them in\n",
    "                    image = imread(source_path+'/'+ t[folder + (batch*batch_size)].strip().split(';')[0]+'/'+imgs[item]).astype(np.float32)\n",
    "                    \n",
    "                    #crop the images and resize them. Note that the images are of 2 different shape \n",
    "                    #and the conv3D will throw error if the inputs in a batch have different shapes\n",
    "                    \n",
    "                    temp = imresize(image,(y,z))\n",
    "                    #Converting to gray scale\n",
    "                    temp = temp.mean(axis=-1,keepdims=1) \n",
    "                    temp = temp/127.5-1 #Normalize data\n",
    "                    batch_data[folder,idx] = temp #normalise and feed in the image\n",
    "                    \n",
    "                batch_labels[folder, int(t[folder + (batch*batch_size)].strip().split(';')[2])] = 1\n",
    "                \n",
    "            yield batch_data, batch_labels #you yield the batch_data and the batch_labels, remember what does yield do\n",
    "\n",
    "        \n",
    "        # write the code for the remaining data points which are left after full batches\n",
    "        if (len(folder_list) != batch_size*num_batches):\n",
    "            print(\"Batch: \",num_batches+1,\"Index:\", batch_size)\n",
    "            batch_size = len(folder_list) - (batch_size*num_batches)\n",
    "            batch_data = np.zeros((batch_size,x,y,z,channel)) # x is the number of images you use for each video, (y,z) is the final size of the input images and 3 is the number of channels RGB\n",
    "            batch_labels = np.zeros((batch_size,classes)) # batch_labels is the one hot representation of the output\n",
    "            for folder in range(batch_size): # iterate over the batch_size\n",
    "                imgs = os.listdir(source_path+'/'+ t[folder + (batch*batch_size)].split(';')[0]) # read all the images in the folder\n",
    "                for idx,item in enumerate(img_idx): #  Iterate iver the frames/images of a folder to read them in\n",
    "                    image = imread(source_path+'/'+ t[folder + (batch*batch_size)].strip().split(';')[0]+'/'+imgs[item]).astype(np.float32)\n",
    "                    \n",
    "                    #crop the images and resize them. Note that the images are of 2 different shape \n",
    "                    #and the conv3D will throw error if the inputs in a batch have different shapes\n",
    "                    temp = imresize(image,(y,z))\n",
    "                    #Converting to gray scale\n",
    "                    temp = temp.mean(axis=-1,keepdims=1) \n",
    "                    temp = temp/127.5-1 #Normalize data\n",
    "                    \n",
    "                    batch_data[folder,idx] = temp\n",
    "                   \n",
    "                batch_labels[folder, int(t[folder + (batch*batch_size)].strip().split(';')[2])] = 1\n",
    "            yield batch_data, batch_labels\n"
   ]
  },
  {
   "cell_type": "markdown",
   "metadata": {},
   "source": [
    "Note here that a video is represented above in the generator as (number of images, height, width, number of channels). Take this into consideration while creating the model architecture."
   ]
  },
  {
   "cell_type": "code",
   "execution_count": 7,
   "metadata": {
    "scrolled": true
   },
   "outputs": [],
   "source": [
    "train_path = './Project_data/train'\n",
    "val_path = './Project_data/val'\n"
   ]
  },
  {
   "cell_type": "code",
   "execution_count": 8,
   "metadata": {},
   "outputs": [
    {
     "name": "stdout",
     "output_type": "stream",
     "text": [
      "# training sequences = 663\n",
      "# validation sequences = 100\n",
      "# epochs = 20\n"
     ]
    }
   ],
   "source": [
    "curr_dt_time = datetime.datetime.now()\n",
    "# train_path = '/notebooks/storage/Final_data/Collated_training/train'\n",
    "# val_path = '/notebooks/storage/Final_data/Collated_training/val'\n",
    "train_path = './Project_data/train'\n",
    "val_path = './Project_data/val'\n",
    "num_train_sequences = len(train_doc)\n",
    "print('# training sequences =', num_train_sequences)\n",
    "num_val_sequences = len(val_doc)\n",
    "print('# validation sequences =', num_val_sequences)\n",
    "num_epochs = 20# choose the number of epochs\n",
    "print ('# epochs =', num_epochs)"
   ]
  },
  {
   "cell_type": "markdown",
   "metadata": {},
   "source": [
    "## Model\n",
    "Here you make the model using different functionalities that Keras provides. Remember to use `Conv3D` and `MaxPooling3D` and not `Conv2D` and `Maxpooling2D` for a 3D convolution model. You would want to use `TimeDistributed` while building a Conv2D + RNN model. Also remember that the last layer is the softmax. Design the network in such a way that the model is able to give good accuracy on the least number of parameters so that it can fit in the memory of the webcam."
   ]
  },
  {
   "cell_type": "code",
   "execution_count": 9,
   "metadata": {},
   "outputs": [
    {
     "name": "stdout",
     "output_type": "stream",
     "text": [
      "_________________________________________________________________\n",
      "Layer (type)                 Output Shape              Param #   \n",
      "=================================================================\n",
      "conv3d_1 (Conv3D)            (None, 30, 120, 120, 32)  2624      \n",
      "_________________________________________________________________\n",
      "activation_1 (Activation)    (None, 30, 120, 120, 32)  0         \n",
      "_________________________________________________________________\n",
      "conv3d_2 (Conv3D)            (None, 30, 120, 120, 32)  27680     \n",
      "_________________________________________________________________\n",
      "activation_2 (Activation)    (None, 30, 120, 120, 32)  0         \n",
      "_________________________________________________________________\n",
      "max_pooling3d_1 (MaxPooling3 (None, 10, 40, 40, 32)    0         \n",
      "_________________________________________________________________\n",
      "dropout_1 (Dropout)          (None, 10, 40, 40, 32)    0         \n",
      "_________________________________________________________________\n",
      "conv3d_3 (Conv3D)            (None, 10, 40, 40, 64)    55360     \n",
      "_________________________________________________________________\n",
      "activation_3 (Activation)    (None, 10, 40, 40, 64)    0         \n",
      "_________________________________________________________________\n",
      "conv3d_4 (Conv3D)            (None, 10, 40, 40, 64)    110656    \n",
      "_________________________________________________________________\n",
      "activation_4 (Activation)    (None, 10, 40, 40, 64)    0         \n",
      "_________________________________________________________________\n",
      "max_pooling3d_2 (MaxPooling3 (None, 4, 14, 14, 64)     0         \n",
      "_________________________________________________________________\n",
      "dropout_2 (Dropout)          (None, 4, 14, 14, 64)     0         \n",
      "_________________________________________________________________\n",
      "flatten_1 (Flatten)          (None, 50176)             0         \n",
      "_________________________________________________________________\n",
      "dense_1 (Dense)              (None, 512)               25690624  \n",
      "_________________________________________________________________\n",
      "dropout_3 (Dropout)          (None, 512)               0         \n",
      "_________________________________________________________________\n",
      "dense_2 (Dense)              (None, 5)                 2565      \n",
      "=================================================================\n",
      "Total params: 25,889,509\n",
      "Trainable params: 25,889,509\n",
      "Non-trainable params: 0\n",
      "_________________________________________________________________\n"
     ]
    }
   ],
   "source": [
    "from keras.models import Sequential, Model\n",
    "from keras.layers import Dense, GRU, Flatten, TimeDistributed, Flatten, BatchNormalization, Activation, Dropout\n",
    "from keras.layers.convolutional import Conv3D, MaxPooling3D\n",
    "from keras.callbacks import ModelCheckpoint, ReduceLROnPlateau\n",
    "from keras import optimizers\n",
    "import keras\n",
    "\n",
    "\n",
    "from keras.losses import categorical_crossentropy\n",
    "from keras.optimizers import Adam\n",
    "\n",
    "# Define model b\n",
    "model_b = Sequential()\n",
    "model_b.add(Conv3D(32, kernel_size=(3, 3, 3), input_shape=(x,y,z,channel), padding='same'))\n",
    "model_b.add(Activation('relu'))\n",
    "model_b.add(Conv3D(32, kernel_size=(3, 3, 3), padding='same'))\n",
    "model_b.add(Activation('relu'))\n",
    "model_b.add(MaxPooling3D(pool_size=(3, 3, 3), padding='same'))\n",
    "model_b.add(Dropout(0.25))\n",
    "\n",
    "model_b.add(Conv3D(64, kernel_size=(3, 3, 3), padding='same'))\n",
    "model_b.add(Activation('relu'))\n",
    "model_b.add(Conv3D(64, kernel_size=(3, 3, 3), padding='same'))\n",
    "model_b.add(Activation('relu'))\n",
    "model_b.add(MaxPooling3D(pool_size=(3, 3, 3), padding='same'))\n",
    "model_b.add(Dropout(0.25))\n",
    "\n",
    "model_b.add(Flatten())\n",
    "model_b.add(Dense(512, activation='relu'))\n",
    "model_b.add(Dropout(0.5))\n",
    "model_b.add(Dense(classes, activation='softmax'))\n",
    "\n",
    "model_b.compile(optimizer=Adam(lr=0.0001), loss='categorical_crossentropy', metrics=['categorical_accuracy'])\n",
    "model_b.summary()"
   ]
  },
  {
   "cell_type": "markdown",
   "metadata": {},
   "source": [
    "Let us now fit the model. This will start training the model and with the help of the checkpoints, you'll be able to save the model at the end of each epoch."
   ]
  },
  {
   "cell_type": "code",
   "execution_count": 10,
   "metadata": {},
   "outputs": [],
   "source": [
    "batch_size=20\n"
   ]
  },
  {
   "cell_type": "markdown",
   "metadata": {},
   "source": [
    "Let us create the train_generator and the val_generator which will be used in .fit_generator."
   ]
  },
  {
   "cell_type": "code",
   "execution_count": 11,
   "metadata": {},
   "outputs": [],
   "source": [
    "train_generator = generator(train_path, train_doc, batch_size)\n",
    "val_generator = generator(val_path, val_doc, batch_size)\n"
   ]
  },
  {
   "cell_type": "code",
   "execution_count": 12,
   "metadata": {},
   "outputs": [],
   "source": [
    "model_name = 'model_init' + '_' + str(curr_dt_time).replace(' ','').replace(':','_') + '/'\n",
    "    \n",
    "if not os.path.exists(model_name):\n",
    "    os.mkdir(model_name)\n",
    "        \n",
    "filepath = model_name + 'model-{epoch:05d}-{loss:.5f}-{categorical_accuracy:.5f}-{val_loss:.5f}-{val_categorical_accuracy:.5f}.h5'\n",
    "\n",
    "checkpoint = ModelCheckpoint(filepath, monitor='val_loss', verbose=1, save_best_only=True, save_weights_only=True, mode='auto', period=1)\n",
    "\n",
    "LR = ReduceLROnPlateau(monitor='val_loss', factor=0.5, patience=2, cooldown=1, verbose=1) # write the REducelronplateau code here\n",
    "\n",
    "ES = EarlyStopping( monitor=\"val_loss\",    min_delta=0.0001,    patience=12,    verbose=0,    mode=\"auto\",    baseline=None)\n",
    "\n",
    "callbacks_list = [checkpoint, LR, ES]\n"
   ]
  },
  {
   "cell_type": "markdown",
   "metadata": {},
   "source": [
    "The steps_per_epoch and validation_steps are used by fit_generator to decide the number of next() calls it need to make."
   ]
  },
  {
   "cell_type": "code",
   "execution_count": 13,
   "metadata": {},
   "outputs": [],
   "source": [
    "if (num_train_sequences%batch_size) == 0:\n",
    "    steps_per_epoch = int(num_train_sequences/batch_size)\n",
    "else:\n",
    "    steps_per_epoch = (num_train_sequences//batch_size) + 1\n",
    "\n",
    "if (num_val_sequences%batch_size) == 0:\n",
    "    validation_steps = int(num_val_sequences/batch_size)\n",
    "else:\n",
    "    validation_steps = (num_val_sequences//batch_size) + 1"
   ]
  },
  {
   "cell_type": "markdown",
   "metadata": {},
   "source": [
    "Let us now fit the model. This will start training the model and with the help of the checkpoints, you'll be able to save the model at the end of each epoch."
   ]
  },
  {
   "cell_type": "code",
   "execution_count": 14,
   "metadata": {},
   "outputs": [
    {
     "name": "stdout",
     "output_type": "stream",
     "text": [
      "Source path =  ./Project_data/val ; batch size = 20\n",
      "Source path =  ./Project_data/trainEpoch 1/20\n",
      " ; batch size = 20\n"
     ]
    },
    {
     "name": "stderr",
     "output_type": "stream",
     "text": [
      "/mnt/disks/user/anaconda3/lib/python3.6/site-packages/ipykernel_launcher.py:19: DeprecationWarning: `imread` is deprecated!\n",
      "`imread` is deprecated in SciPy 1.0.0, and will be removed in 1.2.0.\n",
      "Use ``imageio.imread`` instead.\n",
      "/mnt/disks/user/anaconda3/lib/python3.6/site-packages/ipykernel_launcher.py:24: DeprecationWarning: `imresize` is deprecated!\n",
      "`imresize` is deprecated in SciPy 1.0.0, and will be removed in 1.2.0.\n",
      "Use ``skimage.transform.resize`` instead.\n"
     ]
    },
    {
     "name": "stdout",
     "output_type": "stream",
     "text": [
      "32/34 [===========================>..] - ETA: 12s - loss: 1.6261 - categorical_accuracy: 0.2344Batch:  34 Index: 20\n"
     ]
    },
    {
     "name": "stderr",
     "output_type": "stream",
     "text": [
      "/mnt/disks/user/anaconda3/lib/python3.6/site-packages/ipykernel_launcher.py:44: DeprecationWarning: `imread` is deprecated!\n",
      "`imread` is deprecated in SciPy 1.0.0, and will be removed in 1.2.0.\n",
      "Use ``imageio.imread`` instead.\n",
      "/mnt/disks/user/anaconda3/lib/python3.6/site-packages/ipykernel_launcher.py:48: DeprecationWarning: `imresize` is deprecated!\n",
      "`imresize` is deprecated in SciPy 1.0.0, and will be removed in 1.2.0.\n",
      "Use ``skimage.transform.resize`` instead.\n"
     ]
    },
    {
     "name": "stdout",
     "output_type": "stream",
     "text": [
      "34/34 [==============================] - 214s 6s/step - loss: 1.6145 - categorical_accuracy: 0.2568 - val_loss: 1.5426 - val_categorical_accuracy: 0.4100\n",
      "\n",
      "Epoch 00001: val_loss improved from inf to 1.54263, saving model to model_init_2020-08-2412_16_48.441776/model-00001-1.62131-0.23831-1.54263-0.41000.h5\n",
      "Epoch 2/20\n",
      "34/34 [==============================] - 28s 817ms/step - loss: 1.5095 - categorical_accuracy: 0.2941 - val_loss: 1.4630 - val_categorical_accuracy: 0.4400\n",
      "\n",
      "Epoch 00002: val_loss improved from 1.54263 to 1.46304, saving model to model_init_2020-08-2412_16_48.441776/model-00002-1.50951-0.29412-1.46304-0.44000.h5\n",
      "Epoch 3/20\n",
      "34/34 [==============================] - 28s 817ms/step - loss: 1.5037 - categorical_accuracy: 0.3431 - val_loss: 1.4360 - val_categorical_accuracy: 0.4400\n",
      "\n",
      "Epoch 00003: val_loss improved from 1.46304 to 1.43600, saving model to model_init_2020-08-2412_16_48.441776/model-00003-1.50365-0.34314-1.43600-0.44000.h5\n",
      "Epoch 4/20\n",
      "34/34 [==============================] - 28s 819ms/step - loss: 1.3407 - categorical_accuracy: 0.3725 - val_loss: 1.3480 - val_categorical_accuracy: 0.4400\n",
      "\n",
      "Epoch 00004: val_loss improved from 1.43600 to 1.34800, saving model to model_init_2020-08-2412_16_48.441776/model-00004-1.34075-0.37255-1.34800-0.44000.h5\n",
      "Epoch 5/20\n",
      "34/34 [==============================] - 28s 816ms/step - loss: 1.2660 - categorical_accuracy: 0.4902 - val_loss: 1.1962 - val_categorical_accuracy: 0.5100\n",
      "\n",
      "Epoch 00005: val_loss improved from 1.34800 to 1.19617, saving model to model_init_2020-08-2412_16_48.441776/model-00005-1.26603-0.49020-1.19617-0.51000.h5\n",
      "Epoch 6/20\n",
      "34/34 [==============================] - 28s 818ms/step - loss: 1.5398 - categorical_accuracy: 0.3137 - val_loss: 1.3978 - val_categorical_accuracy: 0.5100\n",
      "\n",
      "Epoch 00006: val_loss did not improve from 1.19617\n",
      "Epoch 7/20\n",
      "34/34 [==============================] - 28s 823ms/step - loss: 1.3108 - categorical_accuracy: 0.4118 - val_loss: 1.2755 - val_categorical_accuracy: 0.4900\n",
      "\n",
      "Epoch 00007: val_loss did not improve from 1.19617\n",
      "\n",
      "Epoch 00007: ReduceLROnPlateau reducing learning rate to 4.999999873689376e-05.\n",
      "Epoch 8/20\n",
      "34/34 [==============================] - 29s 854ms/step - loss: 1.0771 - categorical_accuracy: 0.5686 - val_loss: 1.2099 - val_categorical_accuracy: 0.5000\n",
      "\n",
      "Epoch 00008: val_loss did not improve from 1.19617\n",
      "Epoch 9/20\n",
      "34/34 [==============================] - 28s 832ms/step - loss: 1.1450 - categorical_accuracy: 0.5686 - val_loss: 1.1806 - val_categorical_accuracy: 0.5000\n",
      "\n",
      "Epoch 00009: val_loss improved from 1.19617 to 1.18055, saving model to model_init_2020-08-2412_16_48.441776/model-00009-1.14499-0.56863-1.18055-0.50000.h5\n",
      "Epoch 10/20\n",
      "34/34 [==============================] - 28s 811ms/step - loss: 1.1435 - categorical_accuracy: 0.5196 - val_loss: 1.2077 - val_categorical_accuracy: 0.5900\n",
      "\n",
      "Epoch 00010: val_loss did not improve from 1.18055\n",
      "Epoch 11/20\n",
      "34/34 [==============================] - 28s 813ms/step - loss: 1.1942 - categorical_accuracy: 0.5098 - val_loss: 1.2178 - val_categorical_accuracy: 0.5000\n",
      "\n",
      "Epoch 00011: val_loss did not improve from 1.18055\n",
      "\n",
      "Epoch 00011: ReduceLROnPlateau reducing learning rate to 2.499999936844688e-05.\n",
      "Epoch 12/20\n",
      "34/34 [==============================] - 28s 812ms/step - loss: 1.1350 - categorical_accuracy: 0.5098 - val_loss: 1.0848 - val_categorical_accuracy: 0.5200\n",
      "\n",
      "Epoch 00012: val_loss improved from 1.18055 to 1.08482, saving model to model_init_2020-08-2412_16_48.441776/model-00012-1.13505-0.50980-1.08482-0.52000.h5\n",
      "Epoch 13/20\n",
      "34/34 [==============================] - 28s 811ms/step - loss: 1.2001 - categorical_accuracy: 0.4706 - val_loss: 1.0733 - val_categorical_accuracy: 0.5900\n",
      "\n",
      "Epoch 00013: val_loss improved from 1.08482 to 1.07328, saving model to model_init_2020-08-2412_16_48.441776/model-00013-1.20010-0.47059-1.07328-0.59000.h5\n",
      "Epoch 14/20\n",
      "34/34 [==============================] - 28s 810ms/step - loss: 0.8625 - categorical_accuracy: 0.6569 - val_loss: 1.0367 - val_categorical_accuracy: 0.5800\n",
      "\n",
      "Epoch 00014: val_loss improved from 1.07328 to 1.03665, saving model to model_init_2020-08-2412_16_48.441776/model-00014-0.86249-0.65686-1.03665-0.58000.h5\n",
      "Epoch 15/20\n",
      "34/34 [==============================] - 28s 811ms/step - loss: 0.8766 - categorical_accuracy: 0.6667 - val_loss: 1.0318 - val_categorical_accuracy: 0.5600\n",
      "\n",
      "Epoch 00015: val_loss improved from 1.03665 to 1.03185, saving model to model_init_2020-08-2412_16_48.441776/model-00015-0.87661-0.66667-1.03185-0.56000.h5\n",
      "Epoch 16/20\n",
      "34/34 [==============================] - 28s 810ms/step - loss: 1.0016 - categorical_accuracy: 0.6373 - val_loss: 0.9957 - val_categorical_accuracy: 0.6100\n",
      "\n",
      "Epoch 00016: val_loss improved from 1.03185 to 0.99569, saving model to model_init_2020-08-2412_16_48.441776/model-00016-1.00165-0.63725-0.99569-0.61000.h5\n",
      "Epoch 17/20\n",
      "34/34 [==============================] - 28s 810ms/step - loss: 0.9161 - categorical_accuracy: 0.6176 - val_loss: 0.9929 - val_categorical_accuracy: 0.5700\n",
      "\n",
      "Epoch 00017: val_loss improved from 0.99569 to 0.99290, saving model to model_init_2020-08-2412_16_48.441776/model-00017-0.91608-0.61765-0.99290-0.57000.h5\n",
      "Epoch 18/20\n",
      "34/34 [==============================] - 28s 810ms/step - loss: 0.8721 - categorical_accuracy: 0.6373 - val_loss: 0.9835 - val_categorical_accuracy: 0.5800\n",
      "\n",
      "Epoch 00018: val_loss improved from 0.99290 to 0.98353, saving model to model_init_2020-08-2412_16_48.441776/model-00018-0.87205-0.63725-0.98353-0.58000.h5\n",
      "Epoch 19/20\n",
      "34/34 [==============================] - 28s 809ms/step - loss: 0.9364 - categorical_accuracy: 0.6373 - val_loss: 0.9827 - val_categorical_accuracy: 0.5800\n",
      "\n",
      "Epoch 00019: val_loss improved from 0.98353 to 0.98268, saving model to model_init_2020-08-2412_16_48.441776/model-00019-0.93640-0.63725-0.98268-0.58000.h5\n",
      "Epoch 20/20\n",
      "34/34 [==============================] - 28s 811ms/step - loss: 0.8971 - categorical_accuracy: 0.6471 - val_loss: 0.9842 - val_categorical_accuracy: 0.6200\n",
      "\n",
      "Epoch 00020: val_loss did not improve from 0.98268\n",
      "dict_keys(['val_loss', 'val_categorical_accuracy', 'loss', 'categorical_accuracy', 'lr'])\n"
     ]
    },
    {
     "data": {
      "image/png": "[encoded data removed]",
      "text/plain": [
       "<Figure size 432x288 with 1 Axes>"
      ]
     },
     "metadata": {},
     "output_type": "display_data"
    },
    {
     "data": {
      "image/png": "[encoded data removed]",
      "text/plain": [
       "<Figure size 432x288 with 1 Axes>"
      ]
     },
     "metadata": {},
     "output_type": "display_data"
    }
   ],
   "source": [
    "history=model_b.fit_generator(train_generator, steps_per_epoch=steps_per_epoch, epochs=num_epochs, verbose=1, \n",
    "                    callbacks=callbacks_list, validation_data=val_generator, \n",
    "                    validation_steps=validation_steps, class_weight=None, workers=1, initial_epoch=0)\n",
    "\n",
    "plot_history(history)"
   ]
  },
  {
   "cell_type": "markdown",
   "metadata": {},
   "source": [
    "<b><b>Changing Batch size to 30 Experiment 2</b></b>"
   ]
  },
  {
   "cell_type": "code",
   "execution_count": 15,
   "metadata": {},
   "outputs": [],
   "source": [
    "train_generator = generator(train_path, train_doc, 30)\n",
    "val_generator = generator(val_path, val_doc, 30)"
   ]
  },
  {
   "cell_type": "code",
   "execution_count": 16,
   "metadata": {},
   "outputs": [],
   "source": [
    "if (num_train_sequences%batch_size) == 0:\n",
    "    steps_per_epoch = int(num_train_sequences/batch_size)\n",
    "else:\n",
    "    steps_per_epoch = (num_train_sequences//batch_size) + 1\n",
    "\n",
    "if (num_val_sequences%batch_size) == 0:\n",
    "    validation_steps = int(num_val_sequences/batch_size)\n",
    "else:\n",
    "    validation_steps = (num_val_sequences//batch_size) + 1"
   ]
  },
  {
   "cell_type": "code",
   "execution_count": 17,
   "metadata": {},
   "outputs": [
    {
     "name": "stdout",
     "output_type": "stream",
     "text": [
      "Source path =  ./Project_data/val ; batch size = 30\n",
      "Source path =  ./Project_data/train ; batch size = 30\n",
      "Epoch 1/20\n"
     ]
    },
    {
     "name": "stderr",
     "output_type": "stream",
     "text": [
      "/mnt/disks/user/anaconda3/lib/python3.6/site-packages/ipykernel_launcher.py:19: DeprecationWarning: `imread` is deprecated!\n",
      "`imread` is deprecated in SciPy 1.0.0, and will be removed in 1.2.0.\n",
      "Use ``imageio.imread`` instead.\n",
      "/mnt/disks/user/anaconda3/lib/python3.6/site-packages/ipykernel_launcher.py:24: DeprecationWarning: `imresize` is deprecated!\n",
      "`imresize` is deprecated in SciPy 1.0.0, and will be removed in 1.2.0.\n",
      "Use ``skimage.transform.resize`` instead.\n"
     ]
    },
    {
     "name": "stdout",
     "output_type": "stream",
     "text": [
      "Batch:  4 Index: 30\n"
     ]
    },
    {
     "name": "stderr",
     "output_type": "stream",
     "text": [
      "/mnt/disks/user/anaconda3/lib/python3.6/site-packages/ipykernel_launcher.py:44: DeprecationWarning: `imread` is deprecated!\n",
      "`imread` is deprecated in SciPy 1.0.0, and will be removed in 1.2.0.\n",
      "Use ``imageio.imread`` instead.\n",
      "/mnt/disks/user/anaconda3/lib/python3.6/site-packages/ipykernel_launcher.py:48: DeprecationWarning: `imresize` is deprecated!\n",
      "`imresize` is deprecated in SciPy 1.0.0, and will be removed in 1.2.0.\n",
      "Use ``skimage.transform.resize`` instead.\n"
     ]
    },
    {
     "name": "stdout",
     "output_type": "stream",
     "text": [
      "15/34 [============>.................] - ETA: 1:46 - loss: 0.8675 - categorical_accuracy: 0.6356Batch:  23 Index: 30\n",
      "34/34 [==============================] - 129s 4s/step - loss: 0.8128 - categorical_accuracy: 0.7000 - val_loss: 0.9271 - val_categorical_accuracy: 0.6636\n",
      "\n",
      "Epoch 00001: val_loss improved from 0.98268 to 0.92710, saving model to model_init_2020-08-2412_16_48.441776/model-00001-0.84053-0.66523-0.92710-0.66364.h5\n",
      "Epoch 2/20\n",
      "34/34 [==============================] - 25s 745ms/step - loss: 0.8398 - categorical_accuracy: 0.6176 - val_loss: 0.9465 - val_categorical_accuracy: 0.6200\n",
      "\n",
      "Epoch 00002: val_loss did not improve from 0.92710\n",
      "Epoch 3/20\n",
      "34/34 [==============================] - 25s 746ms/step - loss: 0.8968 - categorical_accuracy: 0.6471 - val_loss: 1.1359 - val_categorical_accuracy: 0.5800\n",
      "\n",
      "Epoch 00003: val_loss did not improve from 0.92710\n",
      "\n",
      "Epoch 00003: ReduceLROnPlateau reducing learning rate to 1.249999968422344e-05.\n",
      "Epoch 4/20\n",
      "34/34 [==============================] - 25s 744ms/step - loss: 0.9129 - categorical_accuracy: 0.6275 - val_loss: 0.9560 - val_categorical_accuracy: 0.5600\n",
      "\n",
      "Epoch 00004: val_loss did not improve from 0.92710\n",
      "Epoch 5/20\n",
      "34/34 [==============================] - 25s 748ms/step - loss: 0.7946 - categorical_accuracy: 0.6667 - val_loss: 0.9342 - val_categorical_accuracy: 0.6800\n",
      "\n",
      "Epoch 00005: val_loss did not improve from 0.92710\n",
      "\n",
      "Epoch 00005: ReduceLROnPlateau reducing learning rate to 6.24999984211172e-06.\n",
      "Epoch 6/20\n",
      "34/34 [==============================] - 25s 745ms/step - loss: 0.7434 - categorical_accuracy: 0.6765 - val_loss: 0.8484 - val_categorical_accuracy: 0.6600\n",
      "\n",
      "Epoch 00006: val_loss improved from 0.92710 to 0.84837, saving model to model_init_2020-08-2412_16_48.441776/model-00006-0.74337-0.67647-0.84837-0.66000.h5\n",
      "Epoch 7/20\n",
      "34/34 [==============================] - 25s 746ms/step - loss: 0.7867 - categorical_accuracy: 0.7059 - val_loss: 1.0578 - val_categorical_accuracy: 0.5600\n",
      "\n",
      "Epoch 00007: val_loss did not improve from 0.84837\n",
      "Epoch 8/20\n",
      "34/34 [==============================] - 25s 745ms/step - loss: 0.7058 - categorical_accuracy: 0.6961 - val_loss: 0.8631 - val_categorical_accuracy: 0.6400\n",
      "\n",
      "Epoch 00008: val_loss did not improve from 0.84837\n",
      "\n",
      "Epoch 00008: ReduceLROnPlateau reducing learning rate to 3.12499992105586e-06.\n",
      "Epoch 9/20\n",
      "34/34 [==============================] - 25s 748ms/step - loss: 0.7301 - categorical_accuracy: 0.7255 - val_loss: 0.9311 - val_categorical_accuracy: 0.6600\n",
      "\n",
      "Epoch 00009: val_loss did not improve from 0.84837\n",
      "Epoch 10/20\n",
      "34/34 [==============================] - 25s 745ms/step - loss: 0.7001 - categorical_accuracy: 0.7255 - val_loss: 0.7815 - val_categorical_accuracy: 0.7000\n",
      "\n",
      "Epoch 00010: val_loss improved from 0.84837 to 0.78149, saving model to model_init_2020-08-2412_16_48.441776/model-00010-0.70011-0.72549-0.78149-0.70000.h5\n",
      "Epoch 11/20\n",
      "34/34 [==============================] - 25s 748ms/step - loss: 0.7412 - categorical_accuracy: 0.6667 - val_loss: 1.0209 - val_categorical_accuracy: 0.5600\n",
      "\n",
      "Epoch 00011: val_loss did not improve from 0.78149\n",
      "Epoch 12/20\n",
      "34/34 [==============================] - 25s 749ms/step - loss: 0.6690 - categorical_accuracy: 0.7451 - val_loss: 0.9778 - val_categorical_accuracy: 0.5600\n",
      "\n",
      "Epoch 00012: val_loss did not improve from 0.78149\n",
      "\n",
      "Epoch 00012: ReduceLROnPlateau reducing learning rate to 1.56249996052793e-06.\n",
      "Epoch 13/20\n",
      "34/34 [==============================] - 26s 751ms/step - loss: 0.7938 - categorical_accuracy: 0.6569 - val_loss: 0.8930 - val_categorical_accuracy: 0.6200\n",
      "\n",
      "Epoch 00013: val_loss did not improve from 0.78149\n",
      "Epoch 14/20\n",
      "34/34 [==============================] - 26s 753ms/step - loss: 0.7305 - categorical_accuracy: 0.6667 - val_loss: 0.8047 - val_categorical_accuracy: 0.7000\n",
      "\n",
      "Epoch 00014: val_loss did not improve from 0.78149\n",
      "\n",
      "Epoch 00014: ReduceLROnPlateau reducing learning rate to 7.81249980263965e-07.\n",
      "Epoch 15/20\n",
      "34/34 [==============================] - 26s 754ms/step - loss: 0.7552 - categorical_accuracy: 0.7157 - val_loss: 0.9812 - val_categorical_accuracy: 0.5600\n",
      "\n",
      "Epoch 00015: val_loss did not improve from 0.78149\n",
      "Epoch 16/20\n",
      "34/34 [==============================] - 26s 754ms/step - loss: 0.6210 - categorical_accuracy: 0.7843 - val_loss: 0.7380 - val_categorical_accuracy: 0.7400\n",
      "\n",
      "Epoch 00016: val_loss improved from 0.78149 to 0.73802, saving model to model_init_2020-08-2412_16_48.441776/model-00016-0.62099-0.78431-0.73802-0.74000.h5\n",
      "Epoch 17/20\n",
      "34/34 [==============================] - 26s 753ms/step - loss: 0.7031 - categorical_accuracy: 0.7255 - val_loss: 1.0873 - val_categorical_accuracy: 0.5600\n",
      "\n",
      "Epoch 00017: val_loss did not improve from 0.73802\n",
      "Epoch 18/20\n",
      "34/34 [==============================] - 26s 751ms/step - loss: 0.8075 - categorical_accuracy: 0.7157 - val_loss: 1.0220 - val_categorical_accuracy: 0.5400\n",
      "\n",
      "Epoch 00018: val_loss did not improve from 0.73802\n",
      "\n",
      "Epoch 00018: ReduceLROnPlateau reducing learning rate to 3.906249901319825e-07.\n",
      "Epoch 19/20\n",
      "34/34 [==============================] - 25s 750ms/step - loss: 0.6653 - categorical_accuracy: 0.7745 - val_loss: 0.7895 - val_categorical_accuracy: 0.7000\n",
      "\n",
      "Epoch 00019: val_loss did not improve from 0.73802\n",
      "Epoch 20/20\n",
      "34/34 [==============================] - 25s 748ms/step - loss: 0.5522 - categorical_accuracy: 0.8431 - val_loss: 0.7908 - val_categorical_accuracy: 0.6800\n",
      "\n",
      "Epoch 00020: val_loss did not improve from 0.73802\n",
      "\n",
      "Epoch 00020: ReduceLROnPlateau reducing learning rate to 1.9531249506599124e-07.\n",
      "dict_keys(['val_loss', 'val_categorical_accuracy', 'loss', 'categorical_accuracy', 'lr'])\n"
     ]
    },
    {
     "data": {
      "image/png": "[encoded data removed]",
      "text/plain": [
       "<Figure size 432x288 with 1 Axes>"
      ]
     },
     "metadata": {},
     "output_type": "display_data"
    },
    {
     "data": {
      "image/png": "[encoded data removed]",
      "text/plain": [
       "<Figure size 432x288 with 1 Axes>"
      ]
     },
     "metadata": {},
     "output_type": "display_data"
    }
   ],
   "source": [
    "history=model_b.fit_generator(train_generator, steps_per_epoch=steps_per_epoch, epochs=num_epochs, verbose=1, \n",
    "                    callbacks=callbacks_list, validation_data=val_generator, \n",
    "                    validation_steps=validation_steps, class_weight=None, workers=1, initial_epoch=0)\n",
    "plot_history(history)"
   ]
  },
  {
   "cell_type": "markdown",
   "metadata": {},
   "source": [
    "<b><b>Experiment 3,experimenting with number of layers in the model</b></b>"
   ]
  },
  {
   "cell_type": "code",
   "execution_count": 18,
   "metadata": {},
   "outputs": [],
   "source": [
    "nb_filters = [16,32,64,128]\n",
    "nb_dense = [256, 128, 5]\n",
    "\n",
    "\n",
    "# Input\n",
    "input_shape=(30,120,120,3)\n",
    "\n",
    "# Define model\n",
    "model_final = Sequential()\n",
    "\n",
    "model_final.add(Conv3D(nb_filters[0], \n",
    "                 kernel_size=(3,3,3), \n",
    "                 input_shape=input_shape,\n",
    "                 padding='same'))\n",
    "model_final.add(BatchNormalization())\n",
    "model_final.add(Activation('relu'))\n",
    "\n",
    "model_final.add(MaxPooling3D(pool_size=(2,2,2)))\n",
    "\n",
    "model_final.add(Conv3D(nb_filters[1], \n",
    "                 kernel_size=(3,3,3), \n",
    "                 padding='same'))\n",
    "model_final.add(BatchNormalization())\n",
    "model_final.add(Activation('relu'))\n",
    "\n",
    "model_final.add(MaxPooling3D(pool_size=(2,2,2)))\n",
    "\n",
    "model_final.add(Conv3D(nb_filters[2], \n",
    "                 kernel_size=(3,3,3), \n",
    "                 padding='same'))\n",
    "model_final.add(BatchNormalization())\n",
    "model_final.add(Activation('relu'))\n",
    "\n",
    "model_final.add(MaxPooling3D(pool_size=(2,2,2)))\n",
    "\n",
    "model_final.add(Conv3D(nb_filters[3], \n",
    "                 kernel_size=(3,3,3), \n",
    "                 padding='same'))\n",
    "model_final.add(Activation('relu'))\n",
    "model_final.add(Dropout(0.25))\n",
    "\n",
    "model_final.add(MaxPooling3D(pool_size=(2,2,2)))\n",
    "\n",
    "#Flatten Layers\n",
    "model_final.add(Flatten())\n",
    "\n",
    "model_final.add(Dense(nb_dense[0], activation='relu'))\n",
    "model_final.add(Dropout(0.5))\n",
    "\n",
    "model_final.add(Dense(nb_dense[1], activation='relu'))\n",
    "model_final.add(Dropout(0.5))\n",
    "\n",
    "#softmax layer\n",
    "model_final.add(Dense(nb_dense[2], activation='softmax'))\n"
   ]
  },
  {
   "cell_type": "code",
   "execution_count": 19,
   "metadata": {},
   "outputs": [
    {
     "name": "stdout",
     "output_type": "stream",
     "text": [
      "_________________________________________________________________\n",
      "Layer (type)                 Output Shape              Param #   \n",
      "=================================================================\n",
      "conv3d_5 (Conv3D)            (None, 30, 120, 120, 16)  1312      \n",
      "_________________________________________________________________\n",
      "batch_normalization_1 (Batch (None, 30, 120, 120, 16)  64        \n",
      "_________________________________________________________________\n",
      "activation_5 (Activation)    (None, 30, 120, 120, 16)  0         \n",
      "_________________________________________________________________\n",
      "max_pooling3d_3 (MaxPooling3 (None, 15, 60, 60, 16)    0         \n",
      "_________________________________________________________________\n",
      "conv3d_6 (Conv3D)            (None, 15, 60, 60, 32)    13856     \n",
      "_________________________________________________________________\n",
      "batch_normalization_2 (Batch (None, 15, 60, 60, 32)    128       \n",
      "_________________________________________________________________\n",
      "activation_6 (Activation)    (None, 15, 60, 60, 32)    0         \n",
      "_________________________________________________________________\n",
      "max_pooling3d_4 (MaxPooling3 (None, 7, 30, 30, 32)     0         \n",
      "_________________________________________________________________\n",
      "conv3d_7 (Conv3D)            (None, 7, 30, 30, 64)     55360     \n",
      "_________________________________________________________________\n",
      "batch_normalization_3 (Batch (None, 7, 30, 30, 64)     256       \n",
      "_________________________________________________________________\n",
      "activation_7 (Activation)    (None, 7, 30, 30, 64)     0         \n",
      "_________________________________________________________________\n",
      "max_pooling3d_5 (MaxPooling3 (None, 3, 15, 15, 64)     0         \n",
      "_________________________________________________________________\n",
      "conv3d_8 (Conv3D)            (None, 3, 15, 15, 128)    221312    \n",
      "_________________________________________________________________\n",
      "activation_8 (Activation)    (None, 3, 15, 15, 128)    0         \n",
      "_________________________________________________________________\n",
      "dropout_4 (Dropout)          (None, 3, 15, 15, 128)    0         \n",
      "_________________________________________________________________\n",
      "max_pooling3d_6 (MaxPooling3 (None, 1, 7, 7, 128)      0         \n",
      "_________________________________________________________________\n",
      "flatten_2 (Flatten)          (None, 6272)              0         \n",
      "_________________________________________________________________\n",
      "dense_3 (Dense)              (None, 256)               1605888   \n",
      "_________________________________________________________________\n",
      "dropout_5 (Dropout)          (None, 256)               0         \n",
      "_________________________________________________________________\n",
      "dense_4 (Dense)              (None, 128)               32896     \n",
      "_________________________________________________________________\n",
      "dropout_6 (Dropout)          (None, 128)               0         \n",
      "_________________________________________________________________\n",
      "dense_5 (Dense)              (None, 5)                 645       \n",
      "=================================================================\n",
      "Total params: 1,931,717\n",
      "Trainable params: 1,931,493\n",
      "Non-trainable params: 224\n",
      "_________________________________________________________________\n",
      "None\n"
     ]
    }
   ],
   "source": [
    "optimiser = keras.optimizers.Adam(lr=0.0001) #write your optimizer\n",
    "model_final.compile(optimizer=optimiser, loss='categorical_crossentropy', metrics=['categorical_accuracy'])\n",
    "print (model_final.summary())"
   ]
  },
  {
   "cell_type": "code",
   "execution_count": 20,
   "metadata": {},
   "outputs": [],
   "source": [
    "batch_size = 40\n",
    "num_epochs = 20\n",
    "x=30\n",
    "y=120\n",
    "z=120\n",
    "train_generator = generator(train_path, train_doc, batch_size)\n",
    "val_generator = generator(val_path, val_doc, batch_size)\n",
    "\n",
    "if (num_train_sequences%batch_size) == 0:\n",
    "    steps_per_epoch = int(num_train_sequences/batch_size)\n",
    "else:\n",
    "    steps_per_epoch = (num_train_sequences//batch_size) + 1\n",
    "\n",
    "if (num_val_sequences%batch_size) == 0:\n",
    "    validation_steps = int(num_val_sequences/batch_size)\n",
    "else:\n",
    "    validation_steps = (num_val_sequences//batch_size) + 1"
   ]
  },
  {
   "cell_type": "code",
   "execution_count": 21,
   "metadata": {},
   "outputs": [
    {
     "name": "stdout",
     "output_type": "stream",
     "text": [
      "_________________________________________________________________\n",
      "Layer (type)                 Output Shape              Param #   \n",
      "=================================================================\n",
      "conv3d_5 (Conv3D)            (None, 30, 120, 120, 16)  1312      \n",
      "_________________________________________________________________\n",
      "batch_normalization_1 (Batch (None, 30, 120, 120, 16)  64        \n",
      "_________________________________________________________________\n",
      "activation_5 (Activation)    (None, 30, 120, 120, 16)  0         \n",
      "_________________________________________________________________\n",
      "max_pooling3d_3 (MaxPooling3 (None, 15, 60, 60, 16)    0         \n",
      "_________________________________________________________________\n",
      "conv3d_6 (Conv3D)            (None, 15, 60, 60, 32)    13856     \n",
      "_________________________________________________________________\n",
      "batch_normalization_2 (Batch (None, 15, 60, 60, 32)    128       \n",
      "_________________________________________________________________\n",
      "activation_6 (Activation)    (None, 15, 60, 60, 32)    0         \n",
      "_________________________________________________________________\n",
      "max_pooling3d_4 (MaxPooling3 (None, 7, 30, 30, 32)     0         \n",
      "_________________________________________________________________\n",
      "conv3d_7 (Conv3D)            (None, 7, 30, 30, 64)     55360     \n",
      "_________________________________________________________________\n",
      "batch_normalization_3 (Batch (None, 7, 30, 30, 64)     256       \n",
      "_________________________________________________________________\n",
      "activation_7 (Activation)    (None, 7, 30, 30, 64)     0         \n",
      "_________________________________________________________________\n",
      "max_pooling3d_5 (MaxPooling3 (None, 3, 15, 15, 64)     0         \n",
      "_________________________________________________________________\n",
      "conv3d_8 (Conv3D)            (None, 3, 15, 15, 128)    221312    \n",
      "_________________________________________________________________\n",
      "activation_8 (Activation)    (None, 3, 15, 15, 128)    0         \n",
      "_________________________________________________________________\n",
      "dropout_4 (Dropout)          (None, 3, 15, 15, 128)    0         \n",
      "_________________________________________________________________\n",
      "max_pooling3d_6 (MaxPooling3 (None, 1, 7, 7, 128)      0         \n",
      "_________________________________________________________________\n",
      "flatten_2 (Flatten)          (None, 6272)              0         \n",
      "_________________________________________________________________\n",
      "dense_3 (Dense)              (None, 256)               1605888   \n",
      "_________________________________________________________________\n",
      "dropout_5 (Dropout)          (None, 256)               0         \n",
      "_________________________________________________________________\n",
      "dense_4 (Dense)              (None, 128)               32896     \n",
      "_________________________________________________________________\n",
      "dropout_6 (Dropout)          (None, 128)               0         \n",
      "_________________________________________________________________\n",
      "dense_5 (Dense)              (None, 5)                 645       \n",
      "=================================================================\n",
      "Total params: 1,931,717\n",
      "Trainable params: 1,931,493\n",
      "Non-trainable params: 224\n",
      "_________________________________________________________________\n",
      "None\n"
     ]
    }
   ],
   "source": [
    "optimiser = keras.optimizers.Adam(lr=0.0001) #write your optimizer\n",
    "model_final.compile(optimizer=optimiser, loss='categorical_crossentropy', metrics=['categorical_accuracy'])\n",
    "print (model_final.summary())"
   ]
  },
  {
   "cell_type": "code",
   "execution_count": 22,
   "metadata": {},
   "outputs": [
    {
     "name": "stdout",
     "output_type": "stream",
     "text": [
      "Source path =  ./Project_data/val ; batch size = 40\n",
      "Source path =  ./Project_data/train ; batch size = 40\n",
      "Epoch 1/20\n"
     ]
    },
    {
     "name": "stderr",
     "output_type": "stream",
     "text": [
      "/mnt/disks/user/anaconda3/lib/python3.6/site-packages/ipykernel_launcher.py:19: DeprecationWarning: `imread` is deprecated!\n",
      "`imread` is deprecated in SciPy 1.0.0, and will be removed in 1.2.0.\n",
      "Use ``imageio.imread`` instead.\n",
      "/mnt/disks/user/anaconda3/lib/python3.6/site-packages/ipykernel_launcher.py:24: DeprecationWarning: `imresize` is deprecated!\n",
      "`imresize` is deprecated in SciPy 1.0.0, and will be removed in 1.2.0.\n",
      "Use ``skimage.transform.resize`` instead.\n"
     ]
    },
    {
     "name": "stdout",
     "output_type": "stream",
     "text": [
      " 1/17 [>.............................] - ETA: 3:32 - loss: 3.8383 - categorical_accuracy: 0.1750Batch:  3 Index: 40\n"
     ]
    },
    {
     "name": "stderr",
     "output_type": "stream",
     "text": [
      "/mnt/disks/user/anaconda3/lib/python3.6/site-packages/ipykernel_launcher.py:44: DeprecationWarning: `imread` is deprecated!\n",
      "`imread` is deprecated in SciPy 1.0.0, and will be removed in 1.2.0.\n",
      "Use ``imageio.imread`` instead.\n",
      "/mnt/disks/user/anaconda3/lib/python3.6/site-packages/ipykernel_launcher.py:48: DeprecationWarning: `imresize` is deprecated!\n",
      "`imresize` is deprecated in SciPy 1.0.0, and will be removed in 1.2.0.\n",
      "Use ``skimage.transform.resize`` instead.\n"
     ]
    },
    {
     "name": "stdout",
     "output_type": "stream",
     "text": [
      "15/17 [=========================>....] - ETA: 10s - loss: 2.3352 - categorical_accuracy: 0.2150Batch:  17 Index: 40\n",
      "17/17 [==============================] - 94s 6s/step - loss: 2.2898 - categorical_accuracy: 0.2088 - val_loss: 1.4655 - val_categorical_accuracy: 0.3600\n",
      "\n",
      "Epoch 00001: val_loss did not improve from 0.73802\n",
      "Epoch 2/20\n",
      "17/17 [==============================] - 45s 3s/step - loss: 1.6113 - categorical_accuracy: 0.3018 - val_loss: 1.4949 - val_categorical_accuracy: 0.3167\n",
      "\n",
      "Epoch 00002: val_loss did not improve from 0.73802\n",
      "Epoch 3/20\n",
      "10/17 [================>.............] - ETA: 21s - loss: 1.6384 - categorical_accuracy: 0.2696Batch:  29 Index: 23\n",
      "17/17 [==============================] - 48s 3s/step - loss: 1.5954 - categorical_accuracy: 0.2991 - val_loss: 1.4820 - val_categorical_accuracy: 0.3833\n",
      "\n",
      "Epoch 00003: val_loss did not improve from 0.73802\n",
      "\n",
      "Epoch 00003: ReduceLROnPlateau reducing learning rate to 4.999999873689376e-05.\n",
      "Epoch 4/20\n",
      "17/17 [==============================] - 42s 2s/step - loss: 1.5603 - categorical_accuracy: 0.2848 - val_loss: 1.4574 - val_categorical_accuracy: 0.5500\n",
      "\n",
      "Epoch 00004: val_loss did not improve from 0.73802\n",
      "Epoch 5/20\n",
      "11/17 [==================>...........] - ETA: 14s - loss: 1.4676 - categorical_accuracy: 0.3780Batch:  35 Index: 19\n",
      "17/17 [==============================] - 41s 2s/step - loss: 1.4674 - categorical_accuracy: 0.3787 - val_loss: 1.3929 - val_categorical_accuracy: 0.4167\n",
      "\n",
      "Epoch 00005: val_loss did not improve from 0.73802\n",
      "Epoch 6/20\n",
      "17/17 [==============================] - 38s 2s/step - loss: 1.4686 - categorical_accuracy: 0.3529 - val_loss: 1.3729 - val_categorical_accuracy: 0.5500\n",
      "\n",
      "Epoch 00006: val_loss did not improve from 0.73802\n",
      "Epoch 7/20\n",
      "17/17 [==============================] - 37s 2s/step - loss: 1.4297 - categorical_accuracy: 0.3460 - val_loss: 1.2653 - val_categorical_accuracy: 0.5000\n",
      "\n",
      "Epoch 00007: val_loss did not improve from 0.73802\n",
      "Epoch 8/20\n",
      "17/17 [==============================] - 38s 2s/step - loss: 1.4024 - categorical_accuracy: 0.3633 - val_loss: 1.3255 - val_categorical_accuracy: 0.5167\n",
      "\n",
      "Epoch 00008: val_loss did not improve from 0.73802\n",
      "Epoch 9/20\n",
      "17/17 [==============================] - 36s 2s/step - loss: 1.4356 - categorical_accuracy: 0.3841 - val_loss: 1.3562 - val_categorical_accuracy: 0.4833\n",
      "\n",
      "Epoch 00009: val_loss did not improve from 0.73802\n",
      "\n",
      "Epoch 00009: ReduceLROnPlateau reducing learning rate to 2.499999936844688e-05.\n",
      "Epoch 10/20\n",
      "17/17 [==============================] - 36s 2s/step - loss: 1.3926 - categorical_accuracy: 0.3702 - val_loss: 1.3174 - val_categorical_accuracy: 0.4667\n",
      "\n",
      "Epoch 00010: val_loss did not improve from 0.73802\n",
      "Epoch 11/20\n",
      "17/17 [==============================] - 39s 2s/step - loss: 1.3764 - categorical_accuracy: 0.4083 - val_loss: 1.2958 - val_categorical_accuracy: 0.5000\n",
      "\n",
      "Epoch 00011: val_loss did not improve from 0.73802\n",
      "\n",
      "Epoch 00011: ReduceLROnPlateau reducing learning rate to 1.249999968422344e-05.\n",
      "Epoch 12/20\n",
      "17/17 [==============================] - 37s 2s/step - loss: 1.3576 - categorical_accuracy: 0.4187 - val_loss: 1.2721 - val_categorical_accuracy: 0.5333\n",
      "\n",
      "Epoch 00012: val_loss did not improve from 0.73802\n",
      "Epoch 13/20\n",
      "17/17 [==============================] - 38s 2s/step - loss: 1.3666 - categorical_accuracy: 0.4118 - val_loss: 1.2669 - val_categorical_accuracy: 0.6167\n",
      "\n",
      "Epoch 00013: val_loss did not improve from 0.73802\n",
      "\n",
      "Epoch 00013: ReduceLROnPlateau reducing learning rate to 6.24999984211172e-06.\n",
      "Epoch 14/20\n",
      "17/17 [==============================] - 36s 2s/step - loss: 1.2979 - categorical_accuracy: 0.4221 - val_loss: 1.2976 - val_categorical_accuracy: 0.5333\n",
      "\n",
      "Epoch 00014: val_loss did not improve from 0.73802\n",
      "Epoch 15/20\n",
      "17/17 [==============================] - 36s 2s/step - loss: 1.3320 - categorical_accuracy: 0.4048 - val_loss: 1.2886 - val_categorical_accuracy: 0.6000\n",
      "\n",
      "Epoch 00015: val_loss did not improve from 0.73802\n",
      "\n",
      "Epoch 00015: ReduceLROnPlateau reducing learning rate to 3.12499992105586e-06.\n",
      "Epoch 16/20\n",
      "17/17 [==============================] - 37s 2s/step - loss: 1.2813 - categorical_accuracy: 0.4637 - val_loss: 1.2717 - val_categorical_accuracy: 0.6000\n",
      "\n",
      "Epoch 00016: val_loss did not improve from 0.73802\n",
      "Epoch 17/20\n",
      "17/17 [==============================] - 38s 2s/step - loss: 1.3842 - categorical_accuracy: 0.3599 - val_loss: 1.2469 - val_categorical_accuracy: 0.6000\n",
      "\n",
      "Epoch 00017: val_loss did not improve from 0.73802\n",
      "Epoch 18/20\n",
      "17/17 [==============================] - 37s 2s/step - loss: 1.2549 - categorical_accuracy: 0.4671 - val_loss: 1.2922 - val_categorical_accuracy: 0.5667\n",
      "\n",
      "Epoch 00018: val_loss did not improve from 0.73802\n",
      "Epoch 19/20\n",
      "17/17 [==============================] - 38s 2s/step - loss: 1.3529 - categorical_accuracy: 0.4256 - val_loss: 1.2657 - val_categorical_accuracy: 0.5833\n",
      "\n",
      "Epoch 00019: val_loss did not improve from 0.73802\n",
      "\n",
      "Epoch 00019: ReduceLROnPlateau reducing learning rate to 1.56249996052793e-06.\n",
      "Epoch 20/20\n",
      "17/17 [==============================] - 36s 2s/step - loss: 1.2959 - categorical_accuracy: 0.4464 - val_loss: 1.3152 - val_categorical_accuracy: 0.5667\n",
      "\n",
      "Epoch 00020: val_loss did not improve from 0.73802\n",
      "dict_keys(['val_loss', 'val_categorical_accuracy', 'loss', 'categorical_accuracy', 'lr'])\n"
     ]
    },
    {
     "data": {
      "image/png": "[encoded data removed]",
      "text/plain": [
       "<Figure size 432x288 with 1 Axes>"
      ]
     },
     "metadata": {},
     "output_type": "display_data"
    },
    {
     "data": {
      "image/png": "[encoded data removed]",
      "text/plain": [
       "<Figure size 432x288 with 1 Axes>"
      ]
     },
     "metadata": {},
     "output_type": "display_data"
    }
   ],
   "source": [
    "history=model_final.fit_generator(train_generator, steps_per_epoch=steps_per_epoch, epochs=num_epochs, verbose=1, \n",
    "                    callbacks=callbacks_list, validation_data=val_generator, \n",
    "                    validation_steps=validation_steps, class_weight=None, workers=1, initial_epoch=0)\n",
    "plot_history(history)"
   ]
  },
  {
   "cell_type": "markdown",
   "metadata": {},
   "source": [
    "## Experimenting with neurons in dense layer"
   ]
  },
  {
   "cell_type": "code",
   "execution_count": 24,
   "metadata": {},
   "outputs": [],
   "source": [
    "from keras.regularizers import l2\n",
    "x=30\n",
    "y=120\n",
    "z=120\n",
    "nb_filters = [16,32,64]\n",
    "nb_dense = [ 500, 5]\n",
    "\n",
    "# Input\n",
    "input_shape=(30,120,120,3)\n",
    "\n",
    "# Define model\n",
    "model = Sequential()\n",
    "\n",
    "model.add(Conv3D(nb_filters[0],kernel_size=(3,3,3),input_shape=input_shape,padding='same'))\n",
    "\n",
    "model.add(Activation('relu'))\n",
    "model.add(BatchNormalization())\n",
    "\n",
    "model.add(MaxPooling3D(pool_size=(2,2,2)))\n",
    "\n",
    "model.add(Conv3D(nb_filters[1],kernel_size=(3,3,3),padding='same'))\n",
    "\n",
    "model.add(Activation('relu'))\n",
    "model.add(BatchNormalization())\n",
    "\n",
    "model.add(MaxPooling3D(pool_size=(2,2,2)))\n",
    "\n",
    "model.add(Conv3D(nb_filters[2],kernel_size=(3,3,3),padding='same'))\n",
    "\n",
    "model.add(Activation('relu'))\n",
    "model.add(BatchNormalization())\n",
    "\n",
    "model.add(MaxPooling3D(pool_size=(2,2,2)))\n",
    "\n",
    "# model.add(Conv3D(nb_filters[3],kernel_size=(2,2,2),padding='same'))\n",
    "# model.add(Activation('relu'))\n",
    "# model.add(Dropout(0.25))\n",
    "\n",
    "#model.add(MaxPooling3D(pool_size=(2,2,2)))\n",
    "\n",
    "#Flatten Layers\n",
    "model.add(Flatten())\n",
    "model.add(Dropout(0.25))\n",
    "# model.add(Dense(nb_dense[0], activation='relu'))\n",
    "# model.add(Dropout(0.5))\n",
    "\n",
    "model.add(Dense(nb_dense[0], activation='relu'))\n",
    "model.add(Dropout(0.5))\n",
    "\n",
    "#softmax layer\n",
    "model.add(Dense(nb_dense[1], activation='softmax'))"
   ]
  },
  {
   "cell_type": "code",
   "execution_count": 25,
   "metadata": {},
   "outputs": [
    {
     "name": "stdout",
     "output_type": "stream",
     "text": [
      "_________________________________________________________________\n",
      "Layer (type)                 Output Shape              Param #   \n",
      "=================================================================\n",
      "conv3d_13 (Conv3D)           (None, 30, 120, 120, 16)  1312      \n",
      "_________________________________________________________________\n",
      "activation_13 (Activation)   (None, 30, 120, 120, 16)  0         \n",
      "_________________________________________________________________\n",
      "batch_normalization_7 (Batch (None, 30, 120, 120, 16)  64        \n",
      "_________________________________________________________________\n",
      "max_pooling3d_11 (MaxPooling (None, 15, 60, 60, 16)    0         \n",
      "_________________________________________________________________\n",
      "conv3d_14 (Conv3D)           (None, 15, 60, 60, 32)    13856     \n",
      "_________________________________________________________________\n",
      "activation_14 (Activation)   (None, 15, 60, 60, 32)    0         \n",
      "_________________________________________________________________\n",
      "batch_normalization_8 (Batch (None, 15, 60, 60, 32)    128       \n",
      "_________________________________________________________________\n",
      "max_pooling3d_12 (MaxPooling (None, 7, 30, 30, 32)     0         \n",
      "_________________________________________________________________\n",
      "conv3d_15 (Conv3D)           (None, 7, 30, 30, 64)     55360     \n",
      "_________________________________________________________________\n",
      "activation_15 (Activation)   (None, 7, 30, 30, 64)     0         \n",
      "_________________________________________________________________\n",
      "batch_normalization_9 (Batch (None, 7, 30, 30, 64)     256       \n",
      "_________________________________________________________________\n",
      "max_pooling3d_13 (MaxPooling (None, 3, 15, 15, 64)     0         \n",
      "_________________________________________________________________\n",
      "flatten_4 (Flatten)          (None, 43200)             0         \n",
      "_________________________________________________________________\n",
      "dropout_10 (Dropout)         (None, 43200)             0         \n",
      "_________________________________________________________________\n",
      "dense_7 (Dense)              (None, 500)               21600500  \n",
      "_________________________________________________________________\n",
      "dropout_11 (Dropout)         (None, 500)               0         \n",
      "_________________________________________________________________\n",
      "dense_8 (Dense)              (None, 5)                 2505      \n",
      "=================================================================\n",
      "Total params: 21,673,981\n",
      "Trainable params: 21,673,757\n",
      "Non-trainable params: 224\n",
      "_________________________________________________________________\n",
      "None\n"
     ]
    }
   ],
   "source": [
    "optimiser = keras.optimizers.Adam(lr=0.0001) #write your optimizer\n",
    "model.compile(optimizer=optimiser, loss='categorical_crossentropy', metrics=['categorical_accuracy'])\n",
    "print (model.summary())"
   ]
  },
  {
   "cell_type": "code",
   "execution_count": 26,
   "metadata": {},
   "outputs": [],
   "source": [
    "batch_size=40\n",
    "if (num_train_sequences%batch_size) == 0:\n",
    "    steps_per_epoch = int(num_train_sequences/batch_size)\n",
    "else:\n",
    "    steps_per_epoch = (num_train_sequences//batch_size) + 1\n",
    "\n",
    "if (num_val_sequences%batch_size) == 0:\n",
    "    validation_steps = int(num_val_sequences/batch_size)\n",
    "else:\n",
    "    validation_steps = (num_val_sequences//batch_size) + 1\n",
    "train_generator = generator(train_path, train_doc, batch_size)\n",
    "val_generator = generator(val_path, val_doc, batch_size)"
   ]
  },
  {
   "cell_type": "code",
   "execution_count": 27,
   "metadata": {},
   "outputs": [
    {
     "name": "stdout",
     "output_type": "stream",
     "text": [
      "Source path =  ./Project_data/val ; batch size = 40\n",
      "Source path =  ./Project_data/train ; batch size = 40\n",
      "Epoch 1/20\n"
     ]
    },
    {
     "name": "stderr",
     "output_type": "stream",
     "text": [
      "/mnt/disks/user/anaconda3/lib/python3.6/site-packages/ipykernel_launcher.py:19: DeprecationWarning: `imread` is deprecated!\n",
      "`imread` is deprecated in SciPy 1.0.0, and will be removed in 1.2.0.\n",
      "Use ``imageio.imread`` instead.\n",
      "/mnt/disks/user/anaconda3/lib/python3.6/site-packages/ipykernel_launcher.py:24: DeprecationWarning: `imresize` is deprecated!\n",
      "`imresize` is deprecated in SciPy 1.0.0, and will be removed in 1.2.0.\n",
      "Use ``skimage.transform.resize`` instead.\n"
     ]
    },
    {
     "name": "stdout",
     "output_type": "stream",
     "text": [
      " 2/17 [==>...........................] - ETA: 1:43 - loss: 4.6881 - categorical_accuracy: 0.1875Batch:  3 Index: 40\n"
     ]
    },
    {
     "name": "stderr",
     "output_type": "stream",
     "text": [
      "/mnt/disks/user/anaconda3/lib/python3.6/site-packages/ipykernel_launcher.py:44: DeprecationWarning: `imread` is deprecated!\n",
      "`imread` is deprecated in SciPy 1.0.0, and will be removed in 1.2.0.\n",
      "Use ``imageio.imread`` instead.\n",
      "/mnt/disks/user/anaconda3/lib/python3.6/site-packages/ipykernel_launcher.py:48: DeprecationWarning: `imresize` is deprecated!\n",
      "`imresize` is deprecated in SciPy 1.0.0, and will be removed in 1.2.0.\n",
      "Use ``skimage.transform.resize`` instead.\n"
     ]
    },
    {
     "name": "stdout",
     "output_type": "stream",
     "text": [
      "15/17 [=========================>....] - ETA: 10s - loss: 3.5505 - categorical_accuracy: 0.3567Batch:  17 Index: 40\n",
      "17/17 [==============================] - 90s 5s/step - loss: 3.4093 - categorical_accuracy: 0.3750 - val_loss: 1.7390 - val_categorical_accuracy: 0.5600\n",
      "\n",
      "Epoch 00001: val_loss did not improve from 0.73802\n",
      "Epoch 2/20\n",
      "17/17 [==============================] - 49s 3s/step - loss: 1.4322 - categorical_accuracy: 0.6394 - val_loss: 1.5050 - val_categorical_accuracy: 0.5833\n",
      "\n",
      "Epoch 00002: val_loss did not improve from 0.73802\n",
      "Epoch 3/20\n",
      "10/17 [================>.............] - ETA: 20s - loss: 1.4295 - categorical_accuracy: 0.6043Batch:  29 Index: 23\n",
      "17/17 [==============================] - 46s 3s/step - loss: 1.1816 - categorical_accuracy: 0.6316 - val_loss: 1.2904 - val_categorical_accuracy: 0.4333\n",
      "\n",
      "Epoch 00003: val_loss did not improve from 0.73802\n",
      "Epoch 4/20\n",
      "17/17 [==============================] - 42s 2s/step - loss: 0.7655 - categorical_accuracy: 0.7276 - val_loss: 0.9481 - val_categorical_accuracy: 0.6500\n",
      "\n",
      "Epoch 00004: val_loss did not improve from 0.73802\n",
      "Epoch 5/20\n",
      "11/17 [==================>...........] - ETA: 14s - loss: 0.5732 - categorical_accuracy: 0.7703Batch:  35 Index: 19\n",
      "17/17 [==============================] - 40s 2s/step - loss: 0.6203 - categorical_accuracy: 0.7671 - val_loss: 1.1443 - val_categorical_accuracy: 0.5500\n",
      "\n",
      "Epoch 00005: val_loss did not improve from 0.73802\n",
      "Epoch 6/20\n",
      "17/17 [==============================] - 37s 2s/step - loss: 0.6541 - categorical_accuracy: 0.7716 - val_loss: 0.8014 - val_categorical_accuracy: 0.7667\n",
      "\n",
      "Epoch 00006: val_loss did not improve from 0.73802\n",
      "Epoch 7/20\n",
      "17/17 [==============================] - 38s 2s/step - loss: 0.6058 - categorical_accuracy: 0.7785 - val_loss: 0.9659 - val_categorical_accuracy: 0.6833\n",
      "\n",
      "Epoch 00007: val_loss did not improve from 0.73802\n",
      "Epoch 8/20\n",
      "17/17 [==============================] - 36s 2s/step - loss: 0.5209 - categorical_accuracy: 0.8028 - val_loss: 0.8913 - val_categorical_accuracy: 0.7500\n",
      "\n",
      "Epoch 00008: val_loss did not improve from 0.73802\n",
      "\n",
      "Epoch 00008: ReduceLROnPlateau reducing learning rate to 4.999999873689376e-05.\n",
      "Epoch 9/20\n",
      "17/17 [==============================] - 37s 2s/step - loss: 0.3828 - categorical_accuracy: 0.8512 - val_loss: 0.7281 - val_categorical_accuracy: 0.7833\n",
      "\n",
      "Epoch 00009: val_loss improved from 0.73802 to 0.72814, saving model to model_init_2020-08-2412_16_48.441776/model-00009-0.38276-0.85121-0.72814-0.78333.h5\n",
      "Epoch 10/20\n",
      "17/17 [==============================] - 38s 2s/step - loss: 0.3602 - categorical_accuracy: 0.8720 - val_loss: 0.6890 - val_categorical_accuracy: 0.6500\n",
      "\n",
      "Epoch 00010: val_loss improved from 0.72814 to 0.68902, saving model to model_init_2020-08-2412_16_48.441776/model-00010-0.36019-0.87197-0.68902-0.65000.h5\n",
      "Epoch 11/20\n",
      "17/17 [==============================] - 37s 2s/step - loss: 0.2745 - categorical_accuracy: 0.8824 - val_loss: 0.9163 - val_categorical_accuracy: 0.7000\n",
      "\n",
      "Epoch 00011: val_loss did not improve from 0.68902\n",
      "Epoch 12/20\n",
      "17/17 [==============================] - 36s 2s/step - loss: 0.2287 - categorical_accuracy: 0.9031 - val_loss: 0.7780 - val_categorical_accuracy: 0.7167\n",
      "\n",
      "Epoch 00012: val_loss did not improve from 0.68902\n",
      "\n",
      "Epoch 00012: ReduceLROnPlateau reducing learning rate to 2.499999936844688e-05.\n",
      "Epoch 13/20\n",
      "17/17 [==============================] - 38s 2s/step - loss: 0.1903 - categorical_accuracy: 0.9481 - val_loss: 0.9363 - val_categorical_accuracy: 0.7167\n",
      "\n",
      "Epoch 00013: val_loss did not improve from 0.68902\n",
      "Epoch 14/20\n",
      "17/17 [==============================] - 38s 2s/step - loss: 0.1657 - categorical_accuracy: 0.9412 - val_loss: 0.7262 - val_categorical_accuracy: 0.7500\n",
      "\n",
      "Epoch 00014: val_loss did not improve from 0.68902\n",
      "\n",
      "Epoch 00014: ReduceLROnPlateau reducing learning rate to 1.249999968422344e-05.\n",
      "Epoch 15/20\n",
      "17/17 [==============================] - 36s 2s/step - loss: 0.1474 - categorical_accuracy: 0.9308 - val_loss: 0.5240 - val_categorical_accuracy: 0.7667\n",
      "\n",
      "Epoch 00015: val_loss improved from 0.68902 to 0.52399, saving model to model_init_2020-08-2412_16_48.441776/model-00015-0.14736-0.93080-0.52399-0.76667.h5\n",
      "Epoch 16/20\n",
      "17/17 [==============================] - 38s 2s/step - loss: 0.1114 - categorical_accuracy: 0.9723 - val_loss: 0.9767 - val_categorical_accuracy: 0.7000\n",
      "\n",
      "Epoch 00016: val_loss did not improve from 0.52399\n",
      "Epoch 17/20\n",
      "17/17 [==============================] - 36s 2s/step - loss: 0.1796 - categorical_accuracy: 0.9377 - val_loss: 0.7709 - val_categorical_accuracy: 0.7333\n",
      "\n",
      "Epoch 00017: val_loss did not improve from 0.52399\n",
      "\n",
      "Epoch 00017: ReduceLROnPlateau reducing learning rate to 6.24999984211172e-06.\n",
      "Epoch 18/20\n",
      "17/17 [==============================] - 40s 2s/step - loss: 0.1189 - categorical_accuracy: 0.9689 - val_loss: 0.7151 - val_categorical_accuracy: 0.7000\n",
      "\n",
      "Epoch 00018: val_loss did not improve from 0.52399\n",
      "Epoch 19/20\n",
      "17/17 [==============================] - 36s 2s/step - loss: 0.0893 - categorical_accuracy: 0.9827 - val_loss: 0.6785 - val_categorical_accuracy: 0.7333\n",
      "\n",
      "Epoch 00019: val_loss did not improve from 0.52399\n",
      "\n",
      "Epoch 00019: ReduceLROnPlateau reducing learning rate to 3.12499992105586e-06.\n",
      "Epoch 20/20\n",
      "17/17 [==============================] - 37s 2s/step - loss: 0.0855 - categorical_accuracy: 0.9792 - val_loss: 0.9186 - val_categorical_accuracy: 0.6500\n",
      "\n",
      "Epoch 00020: val_loss did not improve from 0.52399\n",
      "dict_keys(['val_loss', 'val_categorical_accuracy', 'loss', 'categorical_accuracy', 'lr'])\n"
     ]
    },
    {
     "data": {
      "image/png": "[encoded data removed]",
      "text/plain": [
       "<Figure size 432x288 with 1 Axes>"
      ]
     },
     "metadata": {},
     "output_type": "display_data"
    },
    {
     "data": {
      "image/png": "[encoded data removed]",
      "text/plain": [
       "<Figure size 432x288 with 1 Axes>"
      ]
     },
     "metadata": {},
     "output_type": "display_data"
    }
   ],
   "source": [
    "history=model.fit_generator(train_generator, steps_per_epoch=steps_per_epoch, epochs=num_epochs, verbose=1, \n",
    "                    callbacks=callbacks_list, validation_data=val_generator, \n",
    "                    validation_steps=validation_steps, class_weight=None, workers=1, initial_epoch=0)\n",
    "plot_history(history)"
   ]
  },
  {
   "cell_type": "markdown",
   "metadata": {},
   "source": [
    "## Adding L2 regularization"
   ]
  },
  {
   "cell_type": "code",
   "execution_count": 28,
   "metadata": {},
   "outputs": [],
   "source": [
    "from keras.regularizers import l2\n",
    "x=30\n",
    "y=120\n",
    "z=120\n",
    "nb_filters = [16,32,64,128]\n",
    "nb_dense = [1000, 500, 5]\n",
    "\n",
    "# Input\n",
    "input_shape=(30,120,120,3)\n",
    "\n",
    "# Define model\n",
    "model = Sequential()\n",
    "\n",
    "model.add(Conv3D(nb_filters[0],kernel_size=(3,3,3),input_shape=input_shape,padding='same'))\n",
    "\n",
    "model.add(Activation('relu'))\n",
    "model.add(BatchNormalization())\n",
    "\n",
    "model.add(MaxPooling3D(pool_size=(2,2,2)))\n",
    "\n",
    "model.add(Conv3D(nb_filters[1],kernel_size=(3,3,3),padding='same'))\n",
    "\n",
    "model.add(Activation('relu'))\n",
    "model.add(BatchNormalization())\n",
    "\n",
    "model.add(MaxPooling3D(pool_size=(2,2,2)))\n",
    "\n",
    "model.add(Conv3D(nb_filters[2],kernel_size=(3,3,3),padding='same'))\n",
    "\n",
    "model.add(Activation('relu'))\n",
    "model.add(BatchNormalization())\n",
    "\n",
    "model.add(MaxPooling3D(pool_size=(2,2,2)))\n",
    "\n",
    "model.add(Conv3D(nb_filters[3],kernel_size=(3,3,3),padding='same'))\n",
    "model.add(Activation('relu'))\n",
    "model.add(Dropout(0.25))\n",
    "\n",
    "model.add(MaxPooling3D(pool_size=(2,2,2)))\n",
    "\n",
    "#Flatten Layers\n",
    "model.add(Flatten())\n",
    "model.add(Dropout(0.25))\n",
    "model.add(Dense(nb_dense[0], activation='relu',kernel_regularizer=l2(0.01)))\n",
    "model.add(Dropout(0.5))\n",
    "\n",
    "model.add(Dense(nb_dense[1], activation='relu',kernel_regularizer=l2(0.01)))\n",
    "model.add(Dropout(0.5))\n",
    "\n",
    "#softmax layer\n",
    "model.add(Dense(nb_dense[2], activation='softmax'))"
   ]
  },
  {
   "cell_type": "code",
   "execution_count": 29,
   "metadata": {},
   "outputs": [
    {
     "name": "stdout",
     "output_type": "stream",
     "text": [
      "_________________________________________________________________\n",
      "Layer (type)                 Output Shape              Param #   \n",
      "=================================================================\n",
      "conv3d_16 (Conv3D)           (None, 30, 120, 120, 16)  1312      \n",
      "_________________________________________________________________\n",
      "activation_16 (Activation)   (None, 30, 120, 120, 16)  0         \n",
      "_________________________________________________________________\n",
      "batch_normalization_10 (Batc (None, 30, 120, 120, 16)  64        \n",
      "_________________________________________________________________\n",
      "max_pooling3d_14 (MaxPooling (None, 15, 60, 60, 16)    0         \n",
      "_________________________________________________________________\n",
      "conv3d_17 (Conv3D)           (None, 15, 60, 60, 32)    13856     \n",
      "_________________________________________________________________\n",
      "activation_17 (Activation)   (None, 15, 60, 60, 32)    0         \n",
      "_________________________________________________________________\n",
      "batch_normalization_11 (Batc (None, 15, 60, 60, 32)    128       \n",
      "_________________________________________________________________\n",
      "max_pooling3d_15 (MaxPooling (None, 7, 30, 30, 32)     0         \n",
      "_________________________________________________________________\n",
      "conv3d_18 (Conv3D)           (None, 7, 30, 30, 64)     55360     \n",
      "_________________________________________________________________\n",
      "activation_18 (Activation)   (None, 7, 30, 30, 64)     0         \n",
      "_________________________________________________________________\n",
      "batch_normalization_12 (Batc (None, 7, 30, 30, 64)     256       \n",
      "_________________________________________________________________\n",
      "max_pooling3d_16 (MaxPooling (None, 3, 15, 15, 64)     0         \n",
      "_________________________________________________________________\n",
      "conv3d_19 (Conv3D)           (None, 3, 15, 15, 128)    221312    \n",
      "_________________________________________________________________\n",
      "activation_19 (Activation)   (None, 3, 15, 15, 128)    0         \n",
      "_________________________________________________________________\n",
      "dropout_12 (Dropout)         (None, 3, 15, 15, 128)    0         \n",
      "_________________________________________________________________\n",
      "max_pooling3d_17 (MaxPooling (None, 1, 7, 7, 128)      0         \n",
      "_________________________________________________________________\n",
      "flatten_5 (Flatten)          (None, 6272)              0         \n",
      "_________________________________________________________________\n",
      "dropout_13 (Dropout)         (None, 6272)              0         \n",
      "_________________________________________________________________\n",
      "dense_9 (Dense)              (None, 1000)              6273000   \n",
      "_________________________________________________________________\n",
      "dropout_14 (Dropout)         (None, 1000)              0         \n",
      "_________________________________________________________________\n",
      "dense_10 (Dense)             (None, 500)               500500    \n",
      "_________________________________________________________________\n",
      "dropout_15 (Dropout)         (None, 500)               0         \n",
      "_________________________________________________________________\n",
      "dense_11 (Dense)             (None, 5)                 2505      \n",
      "=================================================================\n",
      "Total params: 7,068,293\n",
      "Trainable params: 7,068,069\n",
      "Non-trainable params: 224\n",
      "_________________________________________________________________\n",
      "None\n"
     ]
    }
   ],
   "source": [
    "optimiser = keras.optimizers.Adam(lr=0.001) #write your optimizer\n",
    "model.compile(optimizer=optimiser, loss='categorical_crossentropy', metrics=['categorical_accuracy'])\n",
    "print (model.summary()) "
   ]
  },
  {
   "cell_type": "code",
   "execution_count": 30,
   "metadata": {},
   "outputs": [],
   "source": [
    "batch_size = 40\n",
    "num_epochs = 20\n",
    "if (num_train_sequences%batch_size) == 0:\n",
    "    steps_per_epoch = int(num_train_sequences/batch_size)\n",
    "else:\n",
    "    steps_per_epoch = (num_train_sequences//batch_size) + 1\n",
    "\n",
    "if (num_val_sequences%batch_size) == 0:\n",
    "    validation_steps = int(num_val_sequences/batch_size)\n",
    "else:\n",
    "    validation_steps = (num_val_sequences//batch_size) + 1\n",
    "train_generator = generator(train_path, train_doc, batch_size)\n",
    "val_generator = generator(val_path, val_doc, batch_size)"
   ]
  },
  {
   "cell_type": "code",
   "execution_count": 31,
   "metadata": {},
   "outputs": [
    {
     "name": "stdout",
     "output_type": "stream",
     "text": [
      "Source path =  ./Project_data/valSource path =  ./Project_data/train ; batch size = 40\n",
      "Epoch 1/20 ; batch size = 40\n",
      "\n"
     ]
    },
    {
     "name": "stderr",
     "output_type": "stream",
     "text": [
      "/mnt/disks/user/anaconda3/lib/python3.6/site-packages/ipykernel_launcher.py:19: DeprecationWarning: `imread` is deprecated!\n",
      "`imread` is deprecated in SciPy 1.0.0, and will be removed in 1.2.0.\n",
      "Use ``imageio.imread`` instead.\n",
      "/mnt/disks/user/anaconda3/lib/python3.6/site-packages/ipykernel_launcher.py:24: DeprecationWarning: `imresize` is deprecated!\n",
      "`imresize` is deprecated in SciPy 1.0.0, and will be removed in 1.2.0.\n",
      "Use ``skimage.transform.resize`` instead.\n"
     ]
    },
    {
     "name": "stdout",
     "output_type": "stream",
     "text": [
      " 1/17 [>.............................] - ETA: 3:02 - loss: 27.9221 - categorical_accuracy: 0.1750Batch:  3 Index: 40\n",
      " 2/17 [==>...........................] - ETA: 1:50 - loss: 31.1488 - categorical_accuracy: 0.1500"
     ]
    },
    {
     "name": "stderr",
     "output_type": "stream",
     "text": [
      "/mnt/disks/user/anaconda3/lib/python3.6/site-packages/ipykernel_launcher.py:44: DeprecationWarning: `imread` is deprecated!\n",
      "`imread` is deprecated in SciPy 1.0.0, and will be removed in 1.2.0.\n",
      "Use ``imageio.imread`` instead.\n",
      "/mnt/disks/user/anaconda3/lib/python3.6/site-packages/ipykernel_launcher.py:48: DeprecationWarning: `imresize` is deprecated!\n",
      "`imresize` is deprecated in SciPy 1.0.0, and will be removed in 1.2.0.\n",
      "Use ``skimage.transform.resize`` instead.\n"
     ]
    },
    {
     "name": "stdout",
     "output_type": "stream",
     "text": [
      "15/17 [=========================>....] - ETA: 10s - loss: 29.1902 - categorical_accuracy: 0.2050Batch:  17 Index: 40\n",
      "17/17 [==============================] - 90s 5s/step - loss: 28.3361 - categorical_accuracy: 0.2244 - val_loss: 21.5480 - val_categorical_accuracy: 0.2600\n",
      "\n",
      "Epoch 00001: val_loss did not improve from 0.52399\n",
      "Epoch 2/20\n",
      "17/17 [==============================] - 48s 3s/step - loss: 19.8125 - categorical_accuracy: 0.3146 - val_loss: 17.7832 - val_categorical_accuracy: 0.3667\n",
      "\n",
      "Epoch 00002: val_loss did not improve from 0.52399\n",
      "Epoch 3/20\n",
      "10/17 [================>.............] - ETA: 20s - loss: 16.9661 - categorical_accuracy: 0.3609Batch:  29 Index: 23\n",
      "17/17 [==============================] - 47s 3s/step - loss: 16.3077 - categorical_accuracy: 0.3899 - val_loss: 14.6665 - val_categorical_accuracy: 0.4500\n",
      "\n",
      "Epoch 00003: val_loss did not improve from 0.52399\n",
      "Epoch 4/20\n",
      "17/17 [==============================] - 40s 2s/step - loss: 13.5950 - categorical_accuracy: 0.3901 - val_loss: 12.2776 - val_categorical_accuracy: 0.4333\n",
      "\n",
      "Epoch 00004: val_loss did not improve from 0.52399\n",
      "Epoch 5/20\n",
      "11/17 [==================>...........] - ETA: 14s - loss: 11.7308 - categorical_accuracy: 0.4737Batch:  35 Index: 19\n",
      "17/17 [==============================] - 41s 2s/step - loss: 11.3990 - categorical_accuracy: 0.4797 - val_loss: 10.3258 - val_categorical_accuracy: 0.5167\n",
      "\n",
      "Epoch 00005: val_loss did not improve from 0.52399\n",
      "Epoch 6/20\n",
      "17/17 [==============================] - 38s 2s/step - loss: 9.8131 - categorical_accuracy: 0.4360 - val_loss: 9.1551 - val_categorical_accuracy: 0.4000\n",
      "\n",
      "Epoch 00006: val_loss did not improve from 0.52399\n",
      "Epoch 7/20\n",
      "17/17 [==============================] - 37s 2s/step - loss: 8.6704 - categorical_accuracy: 0.3875 - val_loss: 7.8925 - val_categorical_accuracy: 0.4833\n",
      "\n",
      "Epoch 00007: val_loss did not improve from 0.52399\n",
      "Epoch 8/20\n",
      "17/17 [==============================] - 37s 2s/step - loss: 7.4164 - categorical_accuracy: 0.4879 - val_loss: 7.0479 - val_categorical_accuracy: 0.3500\n",
      "\n",
      "Epoch 00008: val_loss did not improve from 0.52399\n",
      "Epoch 9/20\n",
      "17/17 [==============================] - 37s 2s/step - loss: 6.5404 - categorical_accuracy: 0.5433 - val_loss: 5.9431 - val_categorical_accuracy: 0.6333\n",
      "\n",
      "Epoch 00009: val_loss did not improve from 0.52399\n",
      "Epoch 10/20\n",
      "17/17 [==============================] - 37s 2s/step - loss: 5.7752 - categorical_accuracy: 0.5675 - val_loss: 5.4236 - val_categorical_accuracy: 0.6333\n",
      "\n",
      "Epoch 00010: val_loss did not improve from 0.52399\n",
      "Epoch 11/20\n",
      "17/17 [==============================] - 37s 2s/step - loss: 5.3070 - categorical_accuracy: 0.5156 - val_loss: 4.8706 - val_categorical_accuracy: 0.6667\n",
      "\n",
      "Epoch 00011: val_loss did not improve from 0.52399\n",
      "Epoch 12/20\n",
      "17/17 [==============================] - 38s 2s/step - loss: 4.7607 - categorical_accuracy: 0.6090 - val_loss: 4.6355 - val_categorical_accuracy: 0.5833\n",
      "\n",
      "Epoch 00012: val_loss did not improve from 0.52399\n",
      "Epoch 13/20\n",
      "17/17 [==============================] - 38s 2s/step - loss: 4.3212 - categorical_accuracy: 0.6574 - val_loss: 4.3029 - val_categorical_accuracy: 0.6167\n",
      "\n",
      "Epoch 00013: val_loss did not improve from 0.52399\n",
      "Epoch 14/20\n",
      "17/17 [==============================] - 36s 2s/step - loss: 4.2210 - categorical_accuracy: 0.5675 - val_loss: 4.2157 - val_categorical_accuracy: 0.4500\n",
      "\n",
      "Epoch 00014: val_loss did not improve from 0.52399\n",
      "Epoch 15/20\n",
      "17/17 [==============================] - 37s 2s/step - loss: 4.0061 - categorical_accuracy: 0.5813 - val_loss: 4.1476 - val_categorical_accuracy: 0.3667\n",
      "\n",
      "Epoch 00015: val_loss did not improve from 0.52399\n",
      "Epoch 16/20\n",
      "17/17 [==============================] - 36s 2s/step - loss: 3.5472 - categorical_accuracy: 0.6817 - val_loss: 3.5530 - val_categorical_accuracy: 0.6000\n",
      "\n",
      "Epoch 00016: val_loss did not improve from 0.52399\n",
      "Epoch 17/20\n",
      "17/17 [==============================] - 39s 2s/step - loss: 3.2940 - categorical_accuracy: 0.6713 - val_loss: 3.4917 - val_categorical_accuracy: 0.5833\n",
      "\n",
      "Epoch 00017: val_loss did not improve from 0.52399\n",
      "Epoch 18/20\n",
      "17/17 [==============================] - 37s 2s/step - loss: 3.0431 - categorical_accuracy: 0.7197 - val_loss: 3.1390 - val_categorical_accuracy: 0.6000\n",
      "\n",
      "Epoch 00018: val_loss did not improve from 0.52399\n",
      "Epoch 19/20\n",
      "17/17 [==============================] - 38s 2s/step - loss: 2.9846 - categorical_accuracy: 0.6782 - val_loss: 3.0437 - val_categorical_accuracy: 0.5833\n",
      "\n",
      "Epoch 00019: val_loss did not improve from 0.52399\n",
      "Epoch 20/20\n",
      "17/17 [==============================] - 36s 2s/step - loss: 2.7482 - categorical_accuracy: 0.7093 - val_loss: 2.8242 - val_categorical_accuracy: 0.6333\n",
      "\n",
      "Epoch 00020: val_loss did not improve from 0.52399\n",
      "dict_keys(['val_loss', 'val_categorical_accuracy', 'loss', 'categorical_accuracy', 'lr'])\n"
     ]
    },
    {
     "data": {
      "image/png": "[encoded data removed]",
      "text/plain": [
       "<Figure size 432x288 with 1 Axes>"
      ]
     },
     "metadata": {},
     "output_type": "display_data"
    },
    {
     "data": {
      "image/png": "[encoded data removed]",
      "text/plain": [
       "<Figure size 432x288 with 1 Axes>"
      ]
     },
     "metadata": {},
     "output_type": "display_data"
    }
   ],
   "source": [
    "history=model.fit_generator(train_generator, steps_per_epoch=steps_per_epoch, epochs=num_epochs, verbose=1, \n",
    "                    callbacks=callbacks_list, validation_data=val_generator, \n",
    "                    validation_steps=validation_steps, class_weight=None, workers=1, initial_epoch=0)\n",
    "plot_history(history)"
   ]
  },
  {
   "cell_type": "code",
   "execution_count": 32,
   "metadata": {},
   "outputs": [],
   "source": [
    "batch_size = 40\n",
    "num_epochs = 30\n",
    "if (num_train_sequences%batch_size) == 0:\n",
    "    steps_per_epoch = int(num_train_sequences/batch_size)\n",
    "else:\n",
    "    steps_per_epoch = (num_train_sequences//batch_size) + 1\n",
    "\n",
    "if (num_val_sequences%batch_size) == 0:\n",
    "    validation_steps = int(num_val_sequences/batch_size)\n",
    "else:\n",
    "    validation_steps = (num_val_sequences//batch_size) + 1\n",
    "train_generator = generator(train_path, train_doc, batch_size)\n",
    "val_generator = generator(val_path, val_doc, batch_size)"
   ]
  },
  {
   "cell_type": "code",
   "execution_count": 33,
   "metadata": {},
   "outputs": [
    {
     "name": "stdout",
     "output_type": "stream",
     "text": [
      "Source path =  ./Project_data/valSource path =  Epoch 1/30\n",
      " ./Project_data/train ; batch size = 40\n",
      "; batch size = 40\n"
     ]
    },
    {
     "name": "stderr",
     "output_type": "stream",
     "text": [
      "/mnt/disks/user/anaconda3/lib/python3.6/site-packages/ipykernel_launcher.py:19: DeprecationWarning: `imread` is deprecated!\n",
      "`imread` is deprecated in SciPy 1.0.0, and will be removed in 1.2.0.\n",
      "Use ``imageio.imread`` instead.\n",
      "/mnt/disks/user/anaconda3/lib/python3.6/site-packages/ipykernel_launcher.py:24: DeprecationWarning: `imresize` is deprecated!\n",
      "`imresize` is deprecated in SciPy 1.0.0, and will be removed in 1.2.0.\n",
      "Use ``skimage.transform.resize`` instead.\n"
     ]
    },
    {
     "name": "stdout",
     "output_type": "stream",
     "text": [
      " 1/17 [>.............................] - ETA: 2:09 - loss: 2.8304 - categorical_accuracy: 0.7000Batch:  3 Index: 40\n"
     ]
    },
    {
     "name": "stderr",
     "output_type": "stream",
     "text": [
      "/mnt/disks/user/anaconda3/lib/python3.6/site-packages/ipykernel_launcher.py:44: DeprecationWarning: `imread` is deprecated!\n",
      "`imread` is deprecated in SciPy 1.0.0, and will be removed in 1.2.0.\n",
      "Use ``imageio.imread`` instead.\n",
      "/mnt/disks/user/anaconda3/lib/python3.6/site-packages/ipykernel_launcher.py:48: DeprecationWarning: `imresize` is deprecated!\n",
      "`imresize` is deprecated in SciPy 1.0.0, and will be removed in 1.2.0.\n",
      "Use ``skimage.transform.resize`` instead.\n"
     ]
    },
    {
     "name": "stdout",
     "output_type": "stream",
     "text": [
      "15/17 [=========================>....] - ETA: 10s - loss: 2.5434 - categorical_accuracy: 0.7600Batch:  17 Index: 40\n",
      "17/17 [==============================] - 89s 5s/step - loss: 2.5269 - categorical_accuracy: 0.7607 - val_loss: 2.6640 - val_categorical_accuracy: 0.6200\n",
      "\n",
      "Epoch 00001: val_loss did not improve from 0.52399\n",
      "Epoch 2/30\n",
      "17/17 [==============================] - 50s 3s/step - loss: 2.2958 - categorical_accuracy: 0.7801 - val_loss: 2.5180 - val_categorical_accuracy: 0.6500\n",
      "\n",
      "Epoch 00002: val_loss did not improve from 0.52399\n",
      "Epoch 3/30\n",
      "10/17 [================>.............] - ETA: 19s - loss: 2.1292 - categorical_accuracy: 0.8000Batch:  29 Index: 23\n",
      "17/17 [==============================] - 45s 3s/step - loss: 2.1414 - categorical_accuracy: 0.7927 - val_loss: 2.2773 - val_categorical_accuracy: 0.6667\n",
      "\n",
      "Epoch 00003: val_loss did not improve from 0.52399\n",
      "Epoch 4/30\n",
      "17/17 [==============================] - 42s 2s/step - loss: 2.1675 - categorical_accuracy: 0.7895 - val_loss: 2.2224 - val_categorical_accuracy: 0.7500\n",
      "\n",
      "Epoch 00004: val_loss did not improve from 0.52399\n",
      "Epoch 5/30\n",
      "11/17 [==================>...........] - ETA: 14s - loss: 2.2275 - categorical_accuracy: 0.7560Batch:  35 Index: 19\n",
      "17/17 [==============================] - 40s 2s/step - loss: 2.1438 - categorical_accuracy: 0.7770 - val_loss: 2.2419 - val_categorical_accuracy: 0.6833\n",
      "\n",
      "Epoch 00005: val_loss did not improve from 0.52399\n",
      "Epoch 6/30\n",
      "17/17 [==============================] - 37s 2s/step - loss: 2.1708 - categorical_accuracy: 0.7647 - val_loss: 2.2484 - val_categorical_accuracy: 0.7500\n",
      "\n",
      "Epoch 00006: val_loss did not improve from 0.52399\n",
      "\n",
      "Epoch 00006: ReduceLROnPlateau reducing learning rate to 0.0005000000237487257.\n",
      "Epoch 7/30\n",
      "17/17 [==============================] - 38s 2s/step - loss: 2.0680 - categorical_accuracy: 0.8062 - val_loss: 2.0699 - val_categorical_accuracy: 0.7500\n",
      "\n",
      "Epoch 00007: val_loss did not improve from 0.52399\n",
      "Epoch 8/30\n",
      "17/17 [==============================] - 38s 2s/step - loss: 1.8391 - categorical_accuracy: 0.8304 - val_loss: 2.2106 - val_categorical_accuracy: 0.7167\n",
      "\n",
      "Epoch 00008: val_loss did not improve from 0.52399\n",
      "Epoch 9/30\n",
      "17/17 [==============================] - 38s 2s/step - loss: 1.7442 - categorical_accuracy: 0.8339 - val_loss: 1.8359 - val_categorical_accuracy: 0.8167\n",
      "\n",
      "Epoch 00009: val_loss did not improve from 0.52399\n",
      "Epoch 10/30\n",
      "17/17 [==============================] - 36s 2s/step - loss: 1.6357 - categorical_accuracy: 0.8685 - val_loss: 1.8881 - val_categorical_accuracy: 0.7833\n",
      "\n",
      "Epoch 00010: val_loss did not improve from 0.52399\n",
      "Epoch 11/30\n",
      "17/17 [==============================] - 38s 2s/step - loss: 1.6174 - categorical_accuracy: 0.8858 - val_loss: 1.9685 - val_categorical_accuracy: 0.7333\n",
      "\n",
      "Epoch 00011: val_loss did not improve from 0.52399\n",
      "\n",
      "Epoch 00011: ReduceLROnPlateau reducing learning rate to 0.0002500000118743628.\n",
      "Epoch 12/30\n",
      "17/17 [==============================] - 37s 2s/step - loss: 1.4813 - categorical_accuracy: 0.9135 - val_loss: 1.7236 - val_categorical_accuracy: 0.7333\n",
      "\n",
      "Epoch 00012: val_loss did not improve from 0.52399\n",
      "Epoch 13/30\n",
      "17/17 [==============================] - 37s 2s/step - loss: 1.4005 - categorical_accuracy: 0.9239 - val_loss: 1.6590 - val_categorical_accuracy: 0.8667\n",
      "\n",
      "Epoch 00013: val_loss did not improve from 0.52399\n",
      "Epoch 14/30\n",
      "17/17 [==============================] - 38s 2s/step - loss: 1.3771 - categorical_accuracy: 0.9377 - val_loss: 1.7210 - val_categorical_accuracy: 0.8333\n",
      "\n",
      "Epoch 00014: val_loss did not improve from 0.52399\n",
      "Epoch 15/30\n",
      "17/17 [==============================] - 37s 2s/step - loss: 1.3143 - categorical_accuracy: 0.9377 - val_loss: 1.7811 - val_categorical_accuracy: 0.6833\n",
      "\n",
      "Epoch 00015: val_loss did not improve from 0.52399\n",
      "\n",
      "Epoch 00015: ReduceLROnPlateau reducing learning rate to 0.0001250000059371814.\n",
      "Epoch 16/30\n",
      "17/17 [==============================] - 36s 2s/step - loss: 1.3020 - categorical_accuracy: 0.9481 - val_loss: 1.6082 - val_categorical_accuracy: 0.8333\n",
      "\n",
      "Epoch 00016: val_loss did not improve from 0.52399\n",
      "Epoch 17/30\n",
      "17/17 [==============================] - 38s 2s/step - loss: 1.2609 - categorical_accuracy: 0.9377 - val_loss: 1.7330 - val_categorical_accuracy: 0.7833\n",
      "\n",
      "Epoch 00017: val_loss did not improve from 0.52399\n",
      "Epoch 18/30\n",
      "17/17 [==============================] - 37s 2s/step - loss: 1.2287 - categorical_accuracy: 0.9585 - val_loss: 1.5409 - val_categorical_accuracy: 0.8000\n",
      "\n",
      "Epoch 00018: val_loss did not improve from 0.52399\n",
      "Epoch 19/30\n",
      "17/17 [==============================] - 38s 2s/step - loss: 1.2071 - categorical_accuracy: 0.9550 - val_loss: 1.5375 - val_categorical_accuracy: 0.8333\n",
      "\n",
      "Epoch 00019: val_loss did not improve from 0.52399\n",
      "Epoch 20/30\n",
      "17/17 [==============================] - 37s 2s/step - loss: 1.1429 - categorical_accuracy: 0.9723 - val_loss: 1.6049 - val_categorical_accuracy: 0.7500\n",
      "\n",
      "Epoch 00020: val_loss did not improve from 0.52399\n",
      "Epoch 21/30\n",
      "17/17 [==============================] - 38s 2s/step - loss: 1.1787 - categorical_accuracy: 0.9446 - val_loss: 1.5068 - val_categorical_accuracy: 0.8833\n",
      "\n",
      "Epoch 00021: val_loss did not improve from 0.52399\n",
      "Epoch 22/30\n",
      "17/17 [==============================] - 37s 2s/step - loss: 1.1685 - categorical_accuracy: 0.9481 - val_loss: 1.4510 - val_categorical_accuracy: 0.8167\n",
      "\n",
      "Epoch 00022: val_loss did not improve from 0.52399\n",
      "Epoch 23/30\n",
      "17/17 [==============================] - 37s 2s/step - loss: 1.1348 - categorical_accuracy: 0.9654 - val_loss: 1.4708 - val_categorical_accuracy: 0.8500\n",
      "\n",
      "Epoch 00023: val_loss did not improve from 0.52399\n",
      "Epoch 24/30\n",
      "17/17 [==============================] - 37s 2s/step - loss: 1.0982 - categorical_accuracy: 0.9689 - val_loss: 1.4764 - val_categorical_accuracy: 0.8000\n",
      "\n",
      "Epoch 00024: val_loss did not improve from 0.52399\n",
      "\n",
      "Epoch 00024: ReduceLROnPlateau reducing learning rate to 6.25000029685907e-05.\n",
      "Epoch 25/30\n",
      "17/17 [==============================] - 36s 2s/step - loss: 1.1152 - categorical_accuracy: 0.9585 - val_loss: 1.6808 - val_categorical_accuracy: 0.7500\n",
      "\n",
      "Epoch 00025: val_loss did not improve from 0.52399\n",
      "Epoch 26/30\n",
      "17/17 [==============================] - 38s 2s/step - loss: 1.0846 - categorical_accuracy: 0.9619 - val_loss: 1.4797 - val_categorical_accuracy: 0.8167\n",
      "\n",
      "Epoch 00026: val_loss did not improve from 0.52399\n",
      "\n",
      "Epoch 00026: ReduceLROnPlateau reducing learning rate to 3.125000148429535e-05.\n",
      "Epoch 27/30\n",
      "17/17 [==============================] - 37s 2s/step - loss: 1.0303 - categorical_accuracy: 0.9862 - val_loss: 1.4060 - val_categorical_accuracy: 0.8500\n",
      "\n",
      "Epoch 00027: val_loss did not improve from 0.52399\n",
      "Epoch 28/30\n",
      "17/17 [==============================] - 36s 2s/step - loss: 1.0766 - categorical_accuracy: 0.9585 - val_loss: 1.5542 - val_categorical_accuracy: 0.8000\n",
      "\n",
      "Epoch 00028: val_loss did not improve from 0.52399\n",
      "Epoch 29/30\n",
      "17/17 [==============================] - 38s 2s/step - loss: 1.0746 - categorical_accuracy: 0.9585 - val_loss: 1.5139 - val_categorical_accuracy: 0.8167\n",
      "\n",
      "Epoch 00029: val_loss did not improve from 0.52399\n",
      "\n",
      "Epoch 00029: ReduceLROnPlateau reducing learning rate to 1.5625000742147677e-05.\n",
      "Epoch 30/30\n",
      "17/17 [==============================] - 37s 2s/step - loss: 1.0715 - categorical_accuracy: 0.9550 - val_loss: 1.4399 - val_categorical_accuracy: 0.7833\n",
      "\n",
      "Epoch 00030: val_loss did not improve from 0.52399\n",
      "dict_keys(['val_loss', 'val_categorical_accuracy', 'loss', 'categorical_accuracy', 'lr'])\n"
     ]
    },
    {
     "data": {
      "image/png": "[encoded data removed]",
      "text/plain": [
       "<Figure size 432x288 with 1 Axes>"
      ]
     },
     "metadata": {},
     "output_type": "display_data"
    },
    {
     "data": {
      "image/png": "[encoded data removed]",
      "text/plain": [
       "<Figure size 432x288 with 1 Axes>"
      ]
     },
     "metadata": {},
     "output_type": "display_data"
    }
   ],
   "source": [
    "history=model.fit_generator(train_generator, steps_per_epoch=steps_per_epoch, epochs=num_epochs, verbose=1, \n",
    "                    callbacks=callbacks_list, validation_data=val_generator, \n",
    "                    validation_steps=validation_steps, class_weight=None, workers=1, initial_epoch=0)\n",
    "plot_history(history)"
   ]
  },
  {
   "cell_type": "code",
   "execution_count": 34,
   "metadata": {},
   "outputs": [],
   "source": [
    "from keras.regularizers import l2\n",
    "x=30\n",
    "y=120\n",
    "z=120\n",
    "nb_filters = [16,32,64,128]\n",
    "nb_dense = [500, 5]\n",
    "\n",
    "# Input\n",
    "input_shape=(30,120,120,3)\n",
    "\n",
    "# Define model\n",
    "model = Sequential()\n",
    "\n",
    "model.add(Conv3D(nb_filters[0],kernel_size=(3,3,3),input_shape=input_shape,padding='same'))\n",
    "\n",
    "model.add(Activation('relu'))\n",
    "model.add(BatchNormalization())\n",
    "\n",
    "model.add(MaxPooling3D(pool_size=(2,2,2)))\n",
    "\n",
    "model.add(Conv3D(nb_filters[1],kernel_size=(3,3,3),padding='same'))\n",
    "\n",
    "model.add(Activation('relu'))\n",
    "model.add(BatchNormalization())\n",
    "\n",
    "model.add(MaxPooling3D(pool_size=(2,2,2)))\n",
    "\n",
    "model.add(Conv3D(nb_filters[2],kernel_size=(3,3,3),padding='same'))\n",
    "\n",
    "model.add(Activation('relu'))\n",
    "model.add(BatchNormalization())\n",
    "\n",
    "model.add(MaxPooling3D(pool_size=(2,2,2)))\n",
    "\n",
    "model.add(Conv3D(nb_filters[3],kernel_size=(1,3,3),padding='same'))\n",
    "model.add(Activation('relu'))\n",
    "model.add(Dropout(0.25))\n",
    "\n",
    "model.add(MaxPooling3D(pool_size=(2,2,2)))\n",
    "\n",
    "#Flatten Layers\n",
    "model.add(Flatten())\n",
    "model.add(Dropout(0.25))\n",
    "# model.add(Dense(nb_dense[0], activation='relu',kernel_regularizer=l2(0.05)))\n",
    "# model.add(Dropout(0.5))\n",
    "\n",
    "model.add(Dense(nb_dense[0], activation='relu',kernel_regularizer=l2(0.01)))\n",
    "model.add(Dropout(0.5))\n",
    "\n",
    "#softmax layer\n",
    "model.add(Dense(nb_dense[1], activation='softmax'))"
   ]
  },
  {
   "cell_type": "code",
   "execution_count": 35,
   "metadata": {},
   "outputs": [],
   "source": [
    "batch_size = 40\n",
    "num_epochs = 20\n",
    "if (num_train_sequences%batch_size) == 0:\n",
    "    steps_per_epoch = int(num_train_sequences/batch_size)\n",
    "else:\n",
    "    steps_per_epoch = (num_train_sequences//batch_size) + 1\n",
    "\n",
    "if (num_val_sequences%batch_size) == 0:\n",
    "    validation_steps = int(num_val_sequences/batch_size)\n",
    "else:\n",
    "    validation_steps = (num_val_sequences//batch_size) + 1\n",
    "train_generator = generator(train_path, train_doc, batch_size)\n",
    "val_generator = generator(val_path, val_doc, batch_size)"
   ]
  },
  {
   "cell_type": "code",
   "execution_count": 36,
   "metadata": {},
   "outputs": [
    {
     "name": "stdout",
     "output_type": "stream",
     "text": [
      "_________________________________________________________________\n",
      "Layer (type)                 Output Shape              Param #   \n",
      "=================================================================\n",
      "conv3d_20 (Conv3D)           (None, 30, 120, 120, 16)  1312      \n",
      "_________________________________________________________________\n",
      "activation_20 (Activation)   (None, 30, 120, 120, 16)  0         \n",
      "_________________________________________________________________\n",
      "batch_normalization_13 (Batc (None, 30, 120, 120, 16)  64        \n",
      "_________________________________________________________________\n",
      "max_pooling3d_18 (MaxPooling (None, 15, 60, 60, 16)    0         \n",
      "_________________________________________________________________\n",
      "conv3d_21 (Conv3D)           (None, 15, 60, 60, 32)    13856     \n",
      "_________________________________________________________________\n",
      "activation_21 (Activation)   (None, 15, 60, 60, 32)    0         \n",
      "_________________________________________________________________\n",
      "batch_normalization_14 (Batc (None, 15, 60, 60, 32)    128       \n",
      "_________________________________________________________________\n",
      "max_pooling3d_19 (MaxPooling (None, 7, 30, 30, 32)     0         \n",
      "_________________________________________________________________\n",
      "conv3d_22 (Conv3D)           (None, 7, 30, 30, 64)     55360     \n",
      "_________________________________________________________________\n",
      "activation_22 (Activation)   (None, 7, 30, 30, 64)     0         \n",
      "_________________________________________________________________\n",
      "batch_normalization_15 (Batc (None, 7, 30, 30, 64)     256       \n",
      "_________________________________________________________________\n",
      "max_pooling3d_20 (MaxPooling (None, 3, 15, 15, 64)     0         \n",
      "_________________________________________________________________\n",
      "conv3d_23 (Conv3D)           (None, 3, 15, 15, 128)    73856     \n",
      "_________________________________________________________________\n",
      "activation_23 (Activation)   (None, 3, 15, 15, 128)    0         \n",
      "_________________________________________________________________\n",
      "dropout_16 (Dropout)         (None, 3, 15, 15, 128)    0         \n",
      "_________________________________________________________________\n",
      "max_pooling3d_21 (MaxPooling (None, 1, 7, 7, 128)      0         \n",
      "_________________________________________________________________\n",
      "flatten_6 (Flatten)          (None, 6272)              0         \n",
      "_________________________________________________________________\n",
      "dropout_17 (Dropout)         (None, 6272)              0         \n",
      "_________________________________________________________________\n",
      "dense_12 (Dense)             (None, 500)               3136500   \n",
      "_________________________________________________________________\n",
      "dropout_18 (Dropout)         (None, 500)               0         \n",
      "_________________________________________________________________\n",
      "dense_13 (Dense)             (None, 5)                 2505      \n",
      "=================================================================\n",
      "Total params: 3,283,837\n",
      "Trainable params: 3,283,613\n",
      "Non-trainable params: 224\n",
      "_________________________________________________________________\n",
      "None\n"
     ]
    }
   ],
   "source": [
    "optimiser = keras.optimizers.Adam(lr=0.0001) #write your optimizer\n",
    "model.compile(optimizer=optimiser, loss='categorical_crossentropy', metrics=['categorical_accuracy'])\n",
    "print (model.summary())"
   ]
  },
  {
   "cell_type": "code",
   "execution_count": 37,
   "metadata": {},
   "outputs": [
    {
     "name": "stdout",
     "output_type": "stream",
     "text": [
      "Source path =  ./Project_data/val ; batch size = 40Source path =  ./Project_data/train ; batch size = 40\n",
      "\n",
      "Epoch 1/20\n"
     ]
    },
    {
     "name": "stderr",
     "output_type": "stream",
     "text": [
      "/mnt/disks/user/anaconda3/lib/python3.6/site-packages/ipykernel_launcher.py:19: DeprecationWarning: `imread` is deprecated!\n",
      "`imread` is deprecated in SciPy 1.0.0, and will be removed in 1.2.0.\n",
      "Use ``imageio.imread`` instead.\n",
      "/mnt/disks/user/anaconda3/lib/python3.6/site-packages/ipykernel_launcher.py:24: DeprecationWarning: `imresize` is deprecated!\n",
      "`imresize` is deprecated in SciPy 1.0.0, and will be removed in 1.2.0.\n",
      "Use ``skimage.transform.resize`` instead.\n"
     ]
    },
    {
     "name": "stdout",
     "output_type": "stream",
     "text": [
      " 2/17 [==>...........................] - ETA: 1:39 - loss: 13.6083 - categorical_accuracy: 0.2125Batch:  3 Index: 40\n"
     ]
    },
    {
     "name": "stderr",
     "output_type": "stream",
     "text": [
      "/mnt/disks/user/anaconda3/lib/python3.6/site-packages/ipykernel_launcher.py:44: DeprecationWarning: `imread` is deprecated!\n",
      "`imread` is deprecated in SciPy 1.0.0, and will be removed in 1.2.0.\n",
      "Use ``imageio.imread`` instead.\n",
      "/mnt/disks/user/anaconda3/lib/python3.6/site-packages/ipykernel_launcher.py:48: DeprecationWarning: `imresize` is deprecated!\n",
      "`imresize` is deprecated in SciPy 1.0.0, and will be removed in 1.2.0.\n",
      "Use ``skimage.transform.resize`` instead.\n"
     ]
    },
    {
     "name": "stdout",
     "output_type": "stream",
     "text": [
      "15/17 [=========================>....] - ETA: 10s - loss: 13.3214 - categorical_accuracy: 0.2600Batch:  17 Index: 40\n",
      "17/17 [==============================] - 91s 5s/step - loss: 13.1430 - categorical_accuracy: 0.2704 - val_loss: 10.5367 - val_categorical_accuracy: 0.4500\n",
      "\n",
      "Epoch 00001: val_loss did not improve from 0.52399\n",
      "Epoch 2/20\n",
      "17/17 [==============================] - 47s 3s/step - loss: 11.0596 - categorical_accuracy: 0.3964 - val_loss: 10.2859 - val_categorical_accuracy: 0.6000\n",
      "\n",
      "Epoch 00002: val_loss did not improve from 0.52399\n",
      "Epoch 3/20\n",
      "10/17 [================>.............] - ETA: 20s - loss: 10.8910 - categorical_accuracy: 0.3478Batch:  29 Index: 23\n",
      "17/17 [==============================] - 47s 3s/step - loss: 10.6967 - categorical_accuracy: 0.3945 - val_loss: 10.1255 - val_categorical_accuracy: 0.5500\n",
      "\n",
      "Epoch 00003: val_loss did not improve from 0.52399\n",
      "Epoch 4/20\n",
      "17/17 [==============================] - 41s 2s/step - loss: 10.2672 - categorical_accuracy: 0.4644 - val_loss: 10.0870 - val_categorical_accuracy: 0.4833\n",
      "\n",
      "Epoch 00004: val_loss did not improve from 0.52399\n",
      "Epoch 5/20\n",
      "11/17 [==================>...........] - ETA: 15s - loss: 10.0371 - categorical_accuracy: 0.5550Batch:  35 Index: 19\n",
      "17/17 [==============================] - 41s 2s/step - loss: 9.9363 - categorical_accuracy: 0.5686 - val_loss: 9.8378 - val_categorical_accuracy: 0.5167\n",
      "\n",
      "Epoch 00005: val_loss did not improve from 0.52399\n",
      "Epoch 6/20\n",
      "17/17 [==============================] - 39s 2s/step - loss: 9.8751 - categorical_accuracy: 0.5813 - val_loss: 9.7762 - val_categorical_accuracy: 0.5667\n",
      "\n",
      "Epoch 00006: val_loss did not improve from 0.52399\n",
      "Epoch 7/20\n",
      "17/17 [==============================] - 36s 2s/step - loss: 9.7497 - categorical_accuracy: 0.5536 - val_loss: 9.6929 - val_categorical_accuracy: 0.5500\n",
      "\n",
      "Epoch 00007: val_loss did not improve from 0.52399\n",
      "Epoch 8/20\n",
      "17/17 [==============================] - 36s 2s/step - loss: 9.6075 - categorical_accuracy: 0.5744 - val_loss: 9.4574 - val_categorical_accuracy: 0.6167\n",
      "\n",
      "Epoch 00008: val_loss did not improve from 0.52399\n",
      "Epoch 9/20\n",
      "17/17 [==============================] - 39s 2s/step - loss: 9.3842 - categorical_accuracy: 0.6540 - val_loss: 9.3930 - val_categorical_accuracy: 0.5667\n",
      "\n",
      "Epoch 00009: val_loss did not improve from 0.52399\n",
      "Epoch 10/20\n",
      "17/17 [==============================] - 38s 2s/step - loss: 9.2114 - categorical_accuracy: 0.6817 - val_loss: 9.2674 - val_categorical_accuracy: 0.6000\n",
      "\n",
      "Epoch 00010: val_loss did not improve from 0.52399\n",
      "Epoch 11/20\n",
      "17/17 [==============================] - 36s 2s/step - loss: 9.1379 - categorical_accuracy: 0.6817 - val_loss: 9.1144 - val_categorical_accuracy: 0.6167\n",
      "\n",
      "Epoch 00011: val_loss did not improve from 0.52399\n",
      "Epoch 12/20\n",
      "17/17 [==============================] - 37s 2s/step - loss: 9.0504 - categorical_accuracy: 0.6851 - val_loss: 9.0956 - val_categorical_accuracy: 0.6500\n",
      "\n",
      "Epoch 00012: val_loss did not improve from 0.52399\n",
      "Epoch 13/20\n",
      "17/17 [==============================] - 37s 2s/step - loss: 8.8051 - categorical_accuracy: 0.7093 - val_loss: 8.9822 - val_categorical_accuracy: 0.5667\n",
      "\n",
      "Epoch 00013: val_loss did not improve from 0.52399\n",
      "Epoch 14/20\n",
      "17/17 [==============================] - 36s 2s/step - loss: 8.9102 - categorical_accuracy: 0.6540 - val_loss: 8.7304 - val_categorical_accuracy: 0.6667\n",
      "\n",
      "Epoch 00014: val_loss did not improve from 0.52399\n",
      "Epoch 15/20\n",
      "17/17 [==============================] - 38s 2s/step - loss: 8.7249 - categorical_accuracy: 0.6851 - val_loss: 8.7904 - val_categorical_accuracy: 0.6833\n",
      "\n",
      "Epoch 00015: val_loss did not improve from 0.52399\n",
      "Epoch 16/20\n",
      "17/17 [==============================] - 36s 2s/step - loss: 8.5412 - categorical_accuracy: 0.7128 - val_loss: 8.7169 - val_categorical_accuracy: 0.6333\n",
      "\n",
      "Epoch 00016: val_loss did not improve from 0.52399\n",
      "Epoch 17/20\n",
      "17/17 [==============================] - 39s 2s/step - loss: 8.4526 - categorical_accuracy: 0.7370 - val_loss: 8.5658 - val_categorical_accuracy: 0.6833\n",
      "\n",
      "Epoch 00017: val_loss did not improve from 0.52399\n",
      "Epoch 18/20\n",
      "17/17 [==============================] - 37s 2s/step - loss: 8.3796 - categorical_accuracy: 0.7024 - val_loss: 8.3916 - val_categorical_accuracy: 0.7167\n",
      "\n",
      "Epoch 00018: val_loss did not improve from 0.52399\n",
      "Epoch 19/20\n",
      "17/17 [==============================] - 38s 2s/step - loss: 8.2028 - categorical_accuracy: 0.7405 - val_loss: 8.3252 - val_categorical_accuracy: 0.7167\n",
      "\n",
      "Epoch 00019: val_loss did not improve from 0.52399\n",
      "Epoch 20/20\n",
      "17/17 [==============================] - 37s 2s/step - loss: 8.0018 - categorical_accuracy: 0.7958 - val_loss: 8.2271 - val_categorical_accuracy: 0.6667\n",
      "\n",
      "Epoch 00020: val_loss did not improve from 0.52399\n",
      "dict_keys(['val_loss', 'val_categorical_accuracy', 'loss', 'categorical_accuracy', 'lr'])\n"
     ]
    },
    {
     "data": {
      "image/png": "[encoded data removed]",
      "text/plain": [
       "<Figure size 432x288 with 1 Axes>"
      ]
     },
     "metadata": {},
     "output_type": "display_data"
    },
    {
     "data": {
      "image/png": "[encoded data removed]",
      "text/plain": [
       "<Figure size 432x288 with 1 Axes>"
      ]
     },
     "metadata": {},
     "output_type": "display_data"
    }
   ],
   "source": [
    "history=model.fit_generator(train_generator, steps_per_epoch=steps_per_epoch, epochs=num_epochs, verbose=1, \n",
    "                    callbacks=callbacks_list, validation_data=val_generator, \n",
    "                    validation_steps=validation_steps, class_weight=None, workers=1, initial_epoch=0)\n",
    "plot_history(history)"
   ]
  },
  {
   "cell_type": "markdown",
   "metadata": {},
   "source": [
    "## Increasing batch size"
   ]
  },
  {
   "cell_type": "code",
   "execution_count": 38,
   "metadata": {},
   "outputs": [],
   "source": [
    "batch_size = 50\n",
    "num_epochs = 20\n",
    "if (num_train_sequences%batch_size) == 0:\n",
    "    steps_per_epoch = int(num_train_sequences/batch_size)   \n",
    "else:\n",
    "    steps_per_epoch = (num_train_sequences//batch_size) + 1\n",
    "\n",
    "if (num_val_sequences%batch_size) == 0:\n",
    "    validation_steps = int(num_val_sequences/batch_size)\n",
    "else:\n",
    "    validation_steps = (num_val_sequences//batch_size) + 1\n",
    "train_generator = generator(train_path, train_doc, batch_size)\n",
    "val_generator = generator(val_path, val_doc, batch_size)"
   ]
  },
  {
   "cell_type": "code",
   "execution_count": 39,
   "metadata": {},
   "outputs": [
    {
     "name": "stdout",
     "output_type": "stream",
     "text": [
      "Source path =  ./Project_data/val ; batch size = 50\n",
      "Source path =  ./Project_data/trainEpoch 1/20\n",
      " ; batch size = 50\n"
     ]
    },
    {
     "name": "stderr",
     "output_type": "stream",
     "text": [
      "/mnt/disks/user/anaconda3/lib/python3.6/site-packages/ipykernel_launcher.py:19: DeprecationWarning: `imread` is deprecated!\n",
      "`imread` is deprecated in SciPy 1.0.0, and will be removed in 1.2.0.\n",
      "Use ``imageio.imread`` instead.\n",
      "/mnt/disks/user/anaconda3/lib/python3.6/site-packages/ipykernel_launcher.py:24: DeprecationWarning: `imresize` is deprecated!\n",
      "`imresize` is deprecated in SciPy 1.0.0, and will be removed in 1.2.0.\n",
      "Use ``skimage.transform.resize`` instead.\n"
     ]
    },
    {
     "name": "stdout",
     "output_type": "stream",
     "text": [
      "12/14 [========================>.....] - ETA: 14s - loss: 7.8894 - categorical_accuracy: 0.8217Batch:  14 Index: 50\n"
     ]
    },
    {
     "name": "stderr",
     "output_type": "stream",
     "text": [
      "/mnt/disks/user/anaconda3/lib/python3.6/site-packages/ipykernel_launcher.py:44: DeprecationWarning: `imread` is deprecated!\n",
      "`imread` is deprecated in SciPy 1.0.0, and will be removed in 1.2.0.\n",
      "Use ``imageio.imread`` instead.\n",
      "/mnt/disks/user/anaconda3/lib/python3.6/site-packages/ipykernel_launcher.py:48: DeprecationWarning: `imresize` is deprecated!\n",
      "`imresize` is deprecated in SciPy 1.0.0, and will be removed in 1.2.0.\n",
      "Use ``skimage.transform.resize`` instead.\n"
     ]
    },
    {
     "name": "stdout",
     "output_type": "stream",
     "text": [
      "14/14 [==============================] - 100s 7s/step - loss: 7.8721 - categorical_accuracy: 0.8270 - val_loss: 8.1087 - val_categorical_accuracy: 0.6900\n",
      "\n",
      "Epoch 00001: val_loss did not improve from 0.52399\n",
      "Epoch 2/20\n",
      "14/14 [==============================] - 24s 2s/step - loss: 7.7164 - categorical_accuracy: 0.8681 - val_loss: 8.0517 - val_categorical_accuracy: 0.6900\n",
      "\n",
      "Epoch 00002: val_loss did not improve from 0.52399\n",
      "Epoch 3/20\n",
      "14/14 [==============================] - 25s 2s/step - loss: 7.7180 - categorical_accuracy: 0.8242 - val_loss: 8.0225 - val_categorical_accuracy: 0.6800\n",
      "\n",
      "Epoch 00003: val_loss did not improve from 0.52399\n",
      "Epoch 4/20\n",
      "14/14 [==============================] - 25s 2s/step - loss: 7.8040 - categorical_accuracy: 0.7692 - val_loss: 7.9299 - val_categorical_accuracy: 0.7200\n",
      "\n",
      "Epoch 00004: val_loss did not improve from 0.52399\n",
      "Epoch 5/20\n",
      "14/14 [==============================] - 26s 2s/step - loss: 7.6555 - categorical_accuracy: 0.7912 - val_loss: 7.8099 - val_categorical_accuracy: 0.7600\n",
      "\n",
      "Epoch 00005: val_loss did not improve from 0.52399\n",
      "Epoch 6/20\n",
      "14/14 [==============================] - 26s 2s/step - loss: 7.6521 - categorical_accuracy: 0.7802 - val_loss: 7.7690 - val_categorical_accuracy: 0.6700\n",
      "\n",
      "Epoch 00006: val_loss did not improve from 0.52399\n",
      "Epoch 7/20\n",
      "14/14 [==============================] - 25s 2s/step - loss: 7.5204 - categorical_accuracy: 0.8022 - val_loss: 7.7673 - val_categorical_accuracy: 0.6800\n",
      "\n",
      "Epoch 00007: val_loss did not improve from 0.52399\n",
      "Epoch 8/20\n",
      "14/14 [==============================] - 27s 2s/step - loss: 7.5869 - categorical_accuracy: 0.7198 - val_loss: 7.6333 - val_categorical_accuracy: 0.7300\n",
      "\n",
      "Epoch 00008: val_loss did not improve from 0.52399\n",
      "Epoch 9/20\n",
      "14/14 [==============================] - 25s 2s/step - loss: 7.2961 - categorical_accuracy: 0.8297 - val_loss: 7.6047 - val_categorical_accuracy: 0.6600\n",
      "\n",
      "Epoch 00009: val_loss did not improve from 0.52399\n",
      "Epoch 10/20\n",
      "14/14 [==============================] - 25s 2s/step - loss: 7.2362 - categorical_accuracy: 0.8242 - val_loss: 7.5210 - val_categorical_accuracy: 0.7000\n",
      "\n",
      "Epoch 00010: val_loss did not improve from 0.52399\n",
      "Epoch 11/20\n",
      "14/14 [==============================] - 26s 2s/step - loss: 7.2578 - categorical_accuracy: 0.8242 - val_loss: 7.4364 - val_categorical_accuracy: 0.7100\n",
      "\n",
      "Epoch 00011: val_loss did not improve from 0.52399\n",
      "Epoch 12/20\n",
      "14/14 [==============================] - 26s 2s/step - loss: 7.1351 - categorical_accuracy: 0.8297 - val_loss: 7.4068 - val_categorical_accuracy: 0.6600\n",
      "\n",
      "Epoch 00012: val_loss did not improve from 0.52399\n",
      "Epoch 13/20\n",
      "14/14 [==============================] - 27s 2s/step - loss: 7.0600 - categorical_accuracy: 0.8516 - val_loss: 7.3031 - val_categorical_accuracy: 0.6800\n",
      "\n",
      "Epoch 00013: val_loss did not improve from 0.52399\n",
      "Epoch 14/20\n",
      "14/14 [==============================] - 25s 2s/step - loss: 6.9606 - categorical_accuracy: 0.8462 - val_loss: 7.2002 - val_categorical_accuracy: 0.7300\n",
      "\n",
      "Epoch 00014: val_loss did not improve from 0.52399\n",
      "Epoch 15/20\n",
      "14/14 [==============================] - 25s 2s/step - loss: 7.0282 - categorical_accuracy: 0.7967 - val_loss: 7.3010 - val_categorical_accuracy: 0.6600\n",
      "\n",
      "Epoch 00015: val_loss did not improve from 0.52399\n",
      "Epoch 16/20\n",
      "14/14 [==============================] - 26s 2s/step - loss: 6.8563 - categorical_accuracy: 0.8516 - val_loss: 7.1231 - val_categorical_accuracy: 0.7100\n",
      "\n",
      "Epoch 00016: val_loss did not improve from 0.52399\n",
      "Epoch 17/20\n",
      "14/14 [==============================] - 25s 2s/step - loss: 6.7410 - categorical_accuracy: 0.8736 - val_loss: 7.1120 - val_categorical_accuracy: 0.6800\n",
      "\n",
      "Epoch 00017: val_loss did not improve from 0.52399\n",
      "Epoch 18/20\n",
      "14/14 [==============================] - 26s 2s/step - loss: 6.6461 - categorical_accuracy: 0.8791 - val_loss: 6.9879 - val_categorical_accuracy: 0.7400\n",
      "\n",
      "Epoch 00018: val_loss did not improve from 0.52399\n",
      "Epoch 19/20\n",
      "14/14 [==============================] - 27s 2s/step - loss: 6.6396 - categorical_accuracy: 0.8626 - val_loss: 6.9631 - val_categorical_accuracy: 0.6900\n",
      "\n",
      "Epoch 00019: val_loss did not improve from 0.52399\n",
      "Epoch 20/20\n",
      "14/14 [==============================] - 27s 2s/step - loss: 6.4839 - categorical_accuracy: 0.8956 - val_loss: 6.9314 - val_categorical_accuracy: 0.7100\n",
      "\n",
      "Epoch 00020: val_loss did not improve from 0.52399\n",
      "dict_keys(['val_loss', 'val_categorical_accuracy', 'loss', 'categorical_accuracy', 'lr'])\n"
     ]
    },
    {
     "data": {
      "image/png": "[encoded data removed]",
      "text/plain": [
       "<Figure size 432x288 with 1 Axes>"
      ]
     },
     "metadata": {},
     "output_type": "display_data"
    },
    {
     "data": {
      "image/png": "[encoded data removed]",
      "text/plain": [
       "<Figure size 432x288 with 1 Axes>"
      ]
     },
     "metadata": {},
     "output_type": "display_data"
    }
   ],
   "source": [
    "history=model.fit_generator(train_generator, steps_per_epoch=steps_per_epoch, epochs=num_epochs, verbose=1, \n",
    "                    callbacks=callbacks_list, validation_data=val_generator, \n",
    "                    validation_steps=validation_steps, class_weight=None, workers=1, initial_epoch=0)\n",
    "plot_history(history)"
   ]
  },
  {
   "cell_type": "code",
   "execution_count": 40,
   "metadata": {},
   "outputs": [],
   "source": [
    "from keras.regularizers import l2\n",
    "x=30\n",
    "y=120\n",
    "z=120\n",
    "nb_filters = [16,32,64,128]\n",
    "nb_dense = [1000,500, 5]\n",
    "\n",
    "# Input\n",
    "input_shape=(30,120,120,3)\n",
    "\n",
    "# Define model\n",
    "model = Sequential()\n",
    "\n",
    "model.add(Conv3D(nb_filters[0],kernel_size=(3,3,3),input_shape=input_shape,padding='same'))\n",
    "\n",
    "model.add(Activation('relu'))\n",
    "model.add(BatchNormalization())\n",
    "\n",
    "model.add(MaxPooling3D(pool_size=(2,2,2)))\n",
    "\n",
    "model.add(Conv3D(nb_filters[1],kernel_size=(3,3,3),padding='same'))\n",
    "\n",
    "model.add(Activation('relu'))\n",
    "model.add(BatchNormalization())\n",
    "\n",
    "model.add(MaxPooling3D(pool_size=(2,2,2)))\n",
    "\n",
    "model.add(Conv3D(nb_filters[2],kernel_size=(3,3,3),padding='same'))\n",
    "\n",
    "model.add(Activation('relu'))\n",
    "model.add(BatchNormalization())\n",
    "\n",
    "model.add(MaxPooling3D(pool_size=(2,2,2)))\n",
    "\n",
    "model.add(Conv3D(nb_filters[3],kernel_size=(3,3,3),padding='same'))\n",
    "model.add(Activation('relu'))\n",
    "model.add(Dropout(0.25))\n",
    "\n",
    "model.add(MaxPooling3D(pool_size=(2,2,2)))\n",
    "\n",
    "#Flatten Layers\n",
    "model.add(Flatten())\n",
    "model.add(Dropout(0.25))\n",
    "model.add(Dense(nb_dense[0], activation='relu',kernel_regularizer=l2(0.01)))\n",
    "model.add(Dropout(0.5))\n",
    "\n",
    "model.add(Dense(nb_dense[1], activation='relu',kernel_regularizer=l2(0.01)))\n",
    "model.add(Dropout(0.5))\n",
    "\n",
    "#softmax layer\n",
    "model.add(Dense(nb_dense[2], activation='softmax'))"
   ]
  },
  {
   "cell_type": "code",
   "execution_count": 41,
   "metadata": {},
   "outputs": [],
   "source": [
    "batch_size = 40\n",
    "num_epochs = 30\n",
    "if (num_train_sequences%batch_size) == 0:\n",
    "    steps_per_epoch = int(num_train_sequences/batch_size)\n",
    "else:\n",
    "    steps_per_epoch = (num_train_sequences//batch_size) + 1\n",
    "\n",
    "if (num_val_sequences%batch_size) == 0:\n",
    "    validation_steps = int(num_val_sequences/batch_size)\n",
    "else:\n",
    "    validation_steps = (num_val_sequences//batch_size) + 1\n",
    "train_generator = generator(train_path, train_doc, batch_size)\n",
    "val_generator = generator(val_path, val_doc, batch_size)"
   ]
  },
  {
   "cell_type": "code",
   "execution_count": 42,
   "metadata": {},
   "outputs": [
    {
     "name": "stdout",
     "output_type": "stream",
     "text": [
      "_________________________________________________________________\n",
      "Layer (type)                 Output Shape              Param #   \n",
      "=================================================================\n",
      "conv3d_24 (Conv3D)           (None, 30, 120, 120, 16)  1312      \n",
      "_________________________________________________________________\n",
      "activation_24 (Activation)   (None, 30, 120, 120, 16)  0         \n",
      "_________________________________________________________________\n",
      "batch_normalization_16 (Batc (None, 30, 120, 120, 16)  64        \n",
      "_________________________________________________________________\n",
      "max_pooling3d_22 (MaxPooling (None, 15, 60, 60, 16)    0         \n",
      "_________________________________________________________________\n",
      "conv3d_25 (Conv3D)           (None, 15, 60, 60, 32)    13856     \n",
      "_________________________________________________________________\n",
      "activation_25 (Activation)   (None, 15, 60, 60, 32)    0         \n",
      "_________________________________________________________________\n",
      "batch_normalization_17 (Batc (None, 15, 60, 60, 32)    128       \n",
      "_________________________________________________________________\n",
      "max_pooling3d_23 (MaxPooling (None, 7, 30, 30, 32)     0         \n",
      "_________________________________________________________________\n",
      "conv3d_26 (Conv3D)           (None, 7, 30, 30, 64)     55360     \n",
      "_________________________________________________________________\n",
      "activation_26 (Activation)   (None, 7, 30, 30, 64)     0         \n",
      "_________________________________________________________________\n",
      "batch_normalization_18 (Batc (None, 7, 30, 30, 64)     256       \n",
      "_________________________________________________________________\n",
      "max_pooling3d_24 (MaxPooling (None, 3, 15, 15, 64)     0         \n",
      "_________________________________________________________________\n",
      "conv3d_27 (Conv3D)           (None, 3, 15, 15, 128)    221312    \n",
      "_________________________________________________________________\n",
      "activation_27 (Activation)   (None, 3, 15, 15, 128)    0         \n",
      "_________________________________________________________________\n",
      "dropout_19 (Dropout)         (None, 3, 15, 15, 128)    0         \n",
      "_________________________________________________________________\n",
      "max_pooling3d_25 (MaxPooling (None, 1, 7, 7, 128)      0         \n",
      "_________________________________________________________________\n",
      "flatten_7 (Flatten)          (None, 6272)              0         \n",
      "_________________________________________________________________\n",
      "dropout_20 (Dropout)         (None, 6272)              0         \n",
      "_________________________________________________________________\n",
      "dense_14 (Dense)             (None, 1000)              6273000   \n",
      "_________________________________________________________________\n",
      "dropout_21 (Dropout)         (None, 1000)              0         \n",
      "_________________________________________________________________\n",
      "dense_15 (Dense)             (None, 500)               500500    \n",
      "_________________________________________________________________\n",
      "dropout_22 (Dropout)         (None, 500)               0         \n",
      "_________________________________________________________________\n",
      "dense_16 (Dense)             (None, 5)                 2505      \n",
      "=================================================================\n",
      "Total params: 7,068,293\n",
      "Trainable params: 7,068,069\n",
      "Non-trainable params: 224\n",
      "_________________________________________________________________\n",
      "None\n"
     ]
    }
   ],
   "source": [
    "optimiser = keras.optimizers.Adam(lr=0.0001) #write your optimizer\n",
    "model.compile(optimizer=optimiser, loss='categorical_crossentropy', metrics=['categorical_accuracy'])\n",
    "print (model.summary())"
   ]
  },
  {
   "cell_type": "code",
   "execution_count": 43,
   "metadata": {},
   "outputs": [
    {
     "name": "stdout",
     "output_type": "stream",
     "text": [
      "Source path = Source path =  ./Project_data/train ; batch size = 40\n",
      "Epoch 1/30\n",
      " ./Project_data/val ; batch size = 40\n"
     ]
    },
    {
     "name": "stderr",
     "output_type": "stream",
     "text": [
      "/mnt/disks/user/anaconda3/lib/python3.6/site-packages/ipykernel_launcher.py:19: DeprecationWarning: `imread` is deprecated!\n",
      "`imread` is deprecated in SciPy 1.0.0, and will be removed in 1.2.0.\n",
      "Use ``imageio.imread`` instead.\n",
      "/mnt/disks/user/anaconda3/lib/python3.6/site-packages/ipykernel_launcher.py:24: DeprecationWarning: `imresize` is deprecated!\n",
      "`imresize` is deprecated in SciPy 1.0.0, and will be removed in 1.2.0.\n",
      "Use ``skimage.transform.resize`` instead.\n"
     ]
    },
    {
     "name": "stdout",
     "output_type": "stream",
     "text": [
      " 2/17 [==>...........................] - ETA: 1:46 - loss: 28.6160 - categorical_accuracy: 0.1500Batch:  3 Index: 40\n"
     ]
    },
    {
     "name": "stderr",
     "output_type": "stream",
     "text": [
      "/mnt/disks/user/anaconda3/lib/python3.6/site-packages/ipykernel_launcher.py:44: DeprecationWarning: `imread` is deprecated!\n",
      "`imread` is deprecated in SciPy 1.0.0, and will be removed in 1.2.0.\n",
      "Use ``imageio.imread`` instead.\n",
      "/mnt/disks/user/anaconda3/lib/python3.6/site-packages/ipykernel_launcher.py:48: DeprecationWarning: `imresize` is deprecated!\n",
      "`imresize` is deprecated in SciPy 1.0.0, and will be removed in 1.2.0.\n",
      "Use ``skimage.transform.resize`` instead.\n"
     ]
    },
    {
     "name": "stdout",
     "output_type": "stream",
     "text": [
      "15/17 [=========================>....] - ETA: 10s - loss: 27.7202 - categorical_accuracy: 0.2217Batch:  17 Index: 40\n",
      "17/17 [==============================] - 91s 5s/step - loss: 27.5550 - categorical_accuracy: 0.2385 - val_loss: 24.9342 - val_categorical_accuracy: 0.4600\n",
      "\n",
      "Epoch 00001: val_loss did not improve from 0.52399\n",
      "Epoch 2/30\n",
      "17/17 [==============================] - 50s 3s/step - loss: 25.6260 - categorical_accuracy: 0.3043 - val_loss: 24.6591 - val_categorical_accuracy: 0.3333\n",
      "\n",
      "Epoch 00002: val_loss did not improve from 0.52399\n",
      "Epoch 3/30\n",
      "10/17 [================>.............] - ETA: 19s - loss: 24.9807 - categorical_accuracy: 0.3261Batch:  29 Index: 23\n",
      "17/17 [==============================] - 45s 3s/step - loss: 24.8172 - categorical_accuracy: 0.3494 - val_loss: 24.1259 - val_categorical_accuracy: 0.5333\n",
      "\n",
      "Epoch 00003: val_loss did not improve from 0.52399\n",
      "Epoch 4/30\n",
      "17/17 [==============================] - 42s 2s/step - loss: 24.3040 - categorical_accuracy: 0.4149 - val_loss: 23.7414 - val_categorical_accuracy: 0.5833\n",
      "\n",
      "Epoch 00004: val_loss did not improve from 0.52399\n",
      "Epoch 5/30\n",
      "11/17 [==================>...........] - ETA: 13s - loss: 23.9902 - categorical_accuracy: 0.3541Batch:  35 Index: 19\n",
      "17/17 [==============================] - 40s 2s/step - loss: 23.8781 - categorical_accuracy: 0.4032 - val_loss: 23.4723 - val_categorical_accuracy: 0.4833\n",
      "\n",
      "Epoch 00005: val_loss did not improve from 0.52399\n",
      "Epoch 6/30\n",
      "17/17 [==============================] - 38s 2s/step - loss: 23.4866 - categorical_accuracy: 0.4498 - val_loss: 23.0909 - val_categorical_accuracy: 0.5500\n",
      "\n",
      "Epoch 00006: val_loss did not improve from 0.52399\n",
      "Epoch 7/30\n",
      "17/17 [==============================] - 36s 2s/step - loss: 23.1431 - categorical_accuracy: 0.4498 - val_loss: 22.7659 - val_categorical_accuracy: 0.5167\n",
      "\n",
      "Epoch 00007: val_loss did not improve from 0.52399\n",
      "Epoch 8/30\n",
      "17/17 [==============================] - 38s 2s/step - loss: 22.7515 - categorical_accuracy: 0.5190 - val_loss: 22.3531 - val_categorical_accuracy: 0.6333\n",
      "\n",
      "Epoch 00008: val_loss did not improve from 0.52399\n",
      "Epoch 9/30\n",
      "17/17 [==============================] - 37s 2s/step - loss: 22.4476 - categorical_accuracy: 0.4602 - val_loss: 22.1041 - val_categorical_accuracy: 0.5667\n",
      "\n",
      "Epoch 00009: val_loss did not improve from 0.52399\n",
      "Epoch 10/30\n",
      "17/17 [==============================] - 38s 2s/step - loss: 22.0269 - categorical_accuracy: 0.5260 - val_loss: 21.7272 - val_categorical_accuracy: 0.5833\n",
      "\n",
      "Epoch 00010: val_loss did not improve from 0.52399\n",
      "Epoch 11/30\n",
      "17/17 [==============================] - 37s 2s/step - loss: 21.7016 - categorical_accuracy: 0.4879 - val_loss: 21.4365 - val_categorical_accuracy: 0.5667\n",
      "\n",
      "Epoch 00011: val_loss did not improve from 0.52399\n",
      "Epoch 12/30\n",
      "17/17 [==============================] - 37s 2s/step - loss: 21.3143 - categorical_accuracy: 0.5294 - val_loss: 21.1811 - val_categorical_accuracy: 0.5833\n",
      "\n",
      "Epoch 00012: val_loss did not improve from 0.52399\n",
      "Epoch 13/30\n",
      "17/17 [==============================] - 37s 2s/step - loss: 21.0238 - categorical_accuracy: 0.5156 - val_loss: 20.7569 - val_categorical_accuracy: 0.5833\n",
      "\n",
      "Epoch 00013: val_loss did not improve from 0.52399\n",
      "Epoch 14/30\n",
      "17/17 [==============================] - 38s 2s/step - loss: 20.7027 - categorical_accuracy: 0.5640 - val_loss: 20.3331 - val_categorical_accuracy: 0.6333\n",
      "\n",
      "Epoch 00014: val_loss did not improve from 0.52399\n",
      "Epoch 15/30\n",
      "17/17 [==============================] - 38s 2s/step - loss: 20.2503 - categorical_accuracy: 0.6090 - val_loss: 20.2068 - val_categorical_accuracy: 0.6667\n",
      "\n",
      "Epoch 00015: val_loss did not improve from 0.52399\n",
      "Epoch 16/30\n",
      "17/17 [==============================] - 37s 2s/step - loss: 20.0270 - categorical_accuracy: 0.5675 - val_loss: 19.9180 - val_categorical_accuracy: 0.6000\n",
      "\n",
      "Epoch 00016: val_loss did not improve from 0.52399\n",
      "Epoch 17/30\n",
      "17/17 [==============================] - 37s 2s/step - loss: 19.7260 - categorical_accuracy: 0.5848 - val_loss: 19.3905 - val_categorical_accuracy: 0.7333\n",
      "\n",
      "Epoch 00017: val_loss did not improve from 0.52399\n",
      "Epoch 18/30\n",
      "17/17 [==============================] - 38s 2s/step - loss: 19.3486 - categorical_accuracy: 0.6367 - val_loss: 19.2669 - val_categorical_accuracy: 0.6667\n",
      "\n",
      "Epoch 00018: val_loss did not improve from 0.52399\n",
      "Epoch 19/30\n",
      "17/17 [==============================] - 39s 2s/step - loss: 19.0514 - categorical_accuracy: 0.6574 - val_loss: 18.9549 - val_categorical_accuracy: 0.6333\n",
      "\n",
      "Epoch 00019: val_loss did not improve from 0.52399\n",
      "Epoch 20/30\n",
      "17/17 [==============================] - 37s 2s/step - loss: 18.7256 - categorical_accuracy: 0.6471 - val_loss: 18.5764 - val_categorical_accuracy: 0.7000\n",
      "\n",
      "Epoch 00020: val_loss did not improve from 0.52399\n",
      "Epoch 21/30\n",
      "17/17 [==============================] - 37s 2s/step - loss: 18.4933 - categorical_accuracy: 0.6609 - val_loss: 18.3522 - val_categorical_accuracy: 0.7167\n",
      "\n",
      "Epoch 00021: val_loss did not improve from 0.52399\n",
      "Epoch 22/30\n",
      "17/17 [==============================] - 37s 2s/step - loss: 18.1568 - categorical_accuracy: 0.7024 - val_loss: 18.1007 - val_categorical_accuracy: 0.6833\n",
      "\n",
      "Epoch 00022: val_loss did not improve from 0.52399\n",
      "Epoch 23/30\n",
      "17/17 [==============================] - 37s 2s/step - loss: 17.8143 - categorical_accuracy: 0.7059 - val_loss: 17.7404 - val_categorical_accuracy: 0.7167\n",
      "\n",
      "Epoch 00023: val_loss did not improve from 0.52399\n",
      "Epoch 24/30\n",
      "17/17 [==============================] - 37s 2s/step - loss: 17.5361 - categorical_accuracy: 0.7093 - val_loss: 17.4134 - val_categorical_accuracy: 0.7167\n",
      "\n",
      "Epoch 00024: val_loss did not improve from 0.52399\n",
      "Epoch 25/30\n",
      "17/17 [==============================] - 37s 2s/step - loss: 17.1728 - categorical_accuracy: 0.7924 - val_loss: 17.2744 - val_categorical_accuracy: 0.7000\n",
      "\n",
      "Epoch 00025: val_loss did not improve from 0.52399\n",
      "Epoch 26/30\n",
      "17/17 [==============================] - 38s 2s/step - loss: 16.9211 - categorical_accuracy: 0.7751 - val_loss: 16.9234 - val_categorical_accuracy: 0.7833\n",
      "\n",
      "Epoch 00026: val_loss did not improve from 0.52399\n",
      "Epoch 27/30\n",
      "17/17 [==============================] - 36s 2s/step - loss: 16.6633 - categorical_accuracy: 0.7820 - val_loss: 16.8352 - val_categorical_accuracy: 0.6833\n",
      "\n",
      "Epoch 00027: val_loss did not improve from 0.52399\n",
      "Epoch 28/30\n",
      "17/17 [==============================] - 39s 2s/step - loss: 16.4352 - categorical_accuracy: 0.7820 - val_loss: 16.5292 - val_categorical_accuracy: 0.6833\n",
      "\n",
      "Epoch 00028: val_loss did not improve from 0.52399\n",
      "Epoch 29/30\n",
      "17/17 [==============================] - 40s 2s/step - loss: 16.1428 - categorical_accuracy: 0.7820 - val_loss: 16.2000 - val_categorical_accuracy: 0.6833\n",
      "\n",
      "Epoch 00029: val_loss did not improve from 0.52399\n",
      "Epoch 30/30\n",
      "17/17 [==============================] - 36s 2s/step - loss: 15.8905 - categorical_accuracy: 0.7924 - val_loss: 16.1568 - val_categorical_accuracy: 0.6000\n",
      "\n",
      "Epoch 00030: val_loss did not improve from 0.52399\n",
      "dict_keys(['val_loss', 'val_categorical_accuracy', 'loss', 'categorical_accuracy', 'lr'])\n"
     ]
    },
    {
     "data": {
      "image/png": "[encoded data removed]",
      "text/plain": [
       "<Figure size 432x288 with 1 Axes>"
      ]
     },
     "metadata": {},
     "output_type": "display_data"
    },
    {
     "data": {
      "image/png": "[encoded data removed]",
      "text/plain": [
       "<Figure size 432x288 with 1 Axes>"
      ]
     },
     "metadata": {},
     "output_type": "display_data"
    }
   ],
   "source": [
    "history=model.fit_generator(train_generator, steps_per_epoch=steps_per_epoch, epochs=num_epochs, verbose=1, \n",
    "                    callbacks=callbacks_list, validation_data=val_generator, \n",
    "                    validation_steps=validation_steps, class_weight=None, workers=1, initial_epoch=0)\n",
    "plot_history(history)"
   ]
  },
  {
   "cell_type": "code",
   "execution_count": 46,
   "metadata": {},
   "outputs": [],
   "source": [
    "batch_size = 50\n",
    "num_epochs = 30\n",
    "if (num_train_sequences%batch_size) == 0:\n",
    "    steps_per_epoch = int(num_train_sequences/batch_size)\n",
    "else:\n",
    "    steps_per_epoch = (num_train_sequences//batch_size) + 1\n",
    "\n",
    "if (num_val_sequences%batch_size) == 0:\n",
    "    validation_steps = int(num_val_sequences/batch_size)\n",
    "else:\n",
    "    validation_steps = (num_val_sequences//batch_size) + 1\n",
    "train_generator = generator(train_path, train_doc, batch_size)\n",
    "val_generator = generator(val_path, val_doc, batch_size)"
   ]
  },
  {
   "cell_type": "code",
   "execution_count": 47,
   "metadata": {},
   "outputs": [
    {
     "name": "stdout",
     "output_type": "stream",
     "text": [
      "Source path =  ./Project_data/val ; batch size = 50\n",
      "Source path =  ./Project_data/train ; batch size =Epoch 1/30\n",
      " 50\n"
     ]
    },
    {
     "name": "stderr",
     "output_type": "stream",
     "text": [
      "/mnt/disks/user/anaconda3/lib/python3.6/site-packages/ipykernel_launcher.py:19: DeprecationWarning: `imread` is deprecated!\n",
      "`imread` is deprecated in SciPy 1.0.0, and will be removed in 1.2.0.\n",
      "Use ``imageio.imread`` instead.\n",
      "/mnt/disks/user/anaconda3/lib/python3.6/site-packages/ipykernel_launcher.py:24: DeprecationWarning: `imresize` is deprecated!\n",
      "`imresize` is deprecated in SciPy 1.0.0, and will be removed in 1.2.0.\n",
      "Use ``skimage.transform.resize`` instead.\n"
     ]
    },
    {
     "name": "stdout",
     "output_type": "stream",
     "text": [
      "12/14 [========================>.....] - ETA: 14s - loss: 15.6055 - categorical_accuracy: 0.8333Batch:  14 Index: 50\n"
     ]
    },
    {
     "name": "stderr",
     "output_type": "stream",
     "text": [
      "/mnt/disks/user/anaconda3/lib/python3.6/site-packages/ipykernel_launcher.py:44: DeprecationWarning: `imread` is deprecated!\n",
      "`imread` is deprecated in SciPy 1.0.0, and will be removed in 1.2.0.\n",
      "Use ``imageio.imread`` instead.\n",
      "/mnt/disks/user/anaconda3/lib/python3.6/site-packages/ipykernel_launcher.py:48: DeprecationWarning: `imresize` is deprecated!\n",
      "`imresize` is deprecated in SciPy 1.0.0, and will be removed in 1.2.0.\n",
      "Use ``skimage.transform.resize`` instead.\n"
     ]
    },
    {
     "name": "stdout",
     "output_type": "stream",
     "text": [
      "14/14 [==============================] - 99s 7s/step - loss: 15.5941 - categorical_accuracy: 0.8338 - val_loss: 15.7098 - val_categorical_accuracy: 0.7500\n",
      "\n",
      "Epoch 00001: val_loss did not improve from 0.52399\n",
      "Epoch 2/30\n",
      "14/14 [==============================] - 29s 2s/step - loss: 15.3067 - categorical_accuracy: 0.8681 - val_loss: 15.5479 - val_categorical_accuracy: 0.7600\n",
      "\n",
      "Epoch 00002: val_loss did not improve from 0.52399\n",
      "Epoch 3/30\n",
      "14/14 [==============================] - 31s 2s/step - loss: 15.1815 - categorical_accuracy: 0.8297 - val_loss: 15.4263 - val_categorical_accuracy: 0.7200\n",
      "\n",
      "Epoch 00003: val_loss did not improve from 0.52399\n",
      "Epoch 4/30\n",
      "14/14 [==============================] - 30s 2s/step - loss: 15.0881 - categorical_accuracy: 0.8242 - val_loss: 15.1308 - val_categorical_accuracy: 0.7800\n",
      "\n",
      "Epoch 00004: val_loss did not improve from 0.52399\n",
      "Epoch 5/30\n",
      "14/14 [==============================] - 28s 2s/step - loss: 14.7922 - categorical_accuracy: 0.8516 - val_loss: 14.9412 - val_categorical_accuracy: 0.7300\n",
      "\n",
      "Epoch 00005: val_loss did not improve from 0.52399\n",
      "Epoch 6/30\n",
      "14/14 [==============================] - 25s 2s/step - loss: 14.5519 - categorical_accuracy: 0.8846 - val_loss: 14.7221 - val_categorical_accuracy: 0.7600\n",
      "\n",
      "Epoch 00006: val_loss did not improve from 0.52399\n",
      "Epoch 7/30\n",
      "14/14 [==============================] - 26s 2s/step - loss: 14.4295 - categorical_accuracy: 0.8681 - val_loss: 14.5278 - val_categorical_accuracy: 0.7700\n",
      "\n",
      "Epoch 00007: val_loss did not improve from 0.52399\n",
      "Epoch 8/30\n",
      "14/14 [==============================] - 27s 2s/step - loss: 14.2686 - categorical_accuracy: 0.8407 - val_loss: 14.4069 - val_categorical_accuracy: 0.7500\n",
      "\n",
      "Epoch 00008: val_loss did not improve from 0.52399\n",
      "Epoch 9/30\n",
      "14/14 [==============================] - 26s 2s/step - loss: 14.0800 - categorical_accuracy: 0.8352 - val_loss: 14.2251 - val_categorical_accuracy: 0.7700\n",
      "\n",
      "Epoch 00009: val_loss did not improve from 0.52399\n",
      "Epoch 10/30\n",
      "14/14 [==============================] - 27s 2s/step - loss: 13.7834 - categorical_accuracy: 0.8956 - val_loss: 14.0451 - val_categorical_accuracy: 0.7700\n",
      "\n",
      "Epoch 00010: val_loss did not improve from 0.52399\n",
      "Epoch 11/30\n",
      "14/14 [==============================] - 25s 2s/step - loss: 13.7619 - categorical_accuracy: 0.8571 - val_loss: 13.8743 - val_categorical_accuracy: 0.7900\n",
      "\n",
      "Epoch 00011: val_loss did not improve from 0.52399\n",
      "Epoch 12/30\n",
      "14/14 [==============================] - 26s 2s/step - loss: 13.5045 - categorical_accuracy: 0.8571 - val_loss: 13.7625 - val_categorical_accuracy: 0.7200\n",
      "\n",
      "Epoch 00012: val_loss did not improve from 0.52399\n",
      "Epoch 13/30\n",
      "14/14 [==============================] - 26s 2s/step - loss: 13.2468 - categorical_accuracy: 0.9121 - val_loss: 13.5516 - val_categorical_accuracy: 0.7500\n",
      "\n",
      "Epoch 00013: val_loss did not improve from 0.52399\n",
      "Epoch 14/30\n",
      "14/14 [==============================] - 26s 2s/step - loss: 13.1987 - categorical_accuracy: 0.9011 - val_loss: 13.4437 - val_categorical_accuracy: 0.7300\n",
      "\n",
      "Epoch 00014: val_loss did not improve from 0.52399\n",
      "Epoch 15/30\n",
      "14/14 [==============================] - 26s 2s/step - loss: 12.9465 - categorical_accuracy: 0.9066 - val_loss: 13.1887 - val_categorical_accuracy: 0.8100\n",
      "\n",
      "Epoch 00015: val_loss did not improve from 0.52399\n",
      "Epoch 16/30\n",
      "14/14 [==============================] - 26s 2s/step - loss: 12.7444 - categorical_accuracy: 0.9121 - val_loss: 13.0223 - val_categorical_accuracy: 0.7500\n",
      "\n",
      "Epoch 00016: val_loss did not improve from 0.52399\n",
      "Epoch 17/30\n",
      "14/14 [==============================] - 27s 2s/step - loss: 12.6429 - categorical_accuracy: 0.9066 - val_loss: 12.8823 - val_categorical_accuracy: 0.7800\n",
      "\n",
      "Epoch 00017: val_loss did not improve from 0.52399\n",
      "Epoch 18/30\n",
      "14/14 [==============================] - 26s 2s/step - loss: 12.4543 - categorical_accuracy: 0.9066 - val_loss: 12.7631 - val_categorical_accuracy: 0.7600\n",
      "\n",
      "Epoch 00018: val_loss did not improve from 0.52399\n",
      "Epoch 19/30\n",
      "14/14 [==============================] - 25s 2s/step - loss: 12.3596 - categorical_accuracy: 0.8956 - val_loss: 12.6514 - val_categorical_accuracy: 0.7500\n",
      "\n",
      "Epoch 00019: val_loss did not improve from 0.52399\n",
      "Epoch 20/30\n",
      "14/14 [==============================] - 26s 2s/step - loss: 12.1449 - categorical_accuracy: 0.9231 - val_loss: 12.4255 - val_categorical_accuracy: 0.7800\n",
      "\n",
      "Epoch 00020: val_loss did not improve from 0.52399\n",
      "Epoch 21/30\n",
      "14/14 [==============================] - 25s 2s/step - loss: 12.0047 - categorical_accuracy: 0.9341 - val_loss: 12.3317 - val_categorical_accuracy: 0.7500\n",
      "\n",
      "Epoch 00021: val_loss did not improve from 0.52399\n",
      "Epoch 22/30\n",
      "14/14 [==============================] - 26s 2s/step - loss: 11.8140 - categorical_accuracy: 0.9121 - val_loss: 12.1873 - val_categorical_accuracy: 0.7500\n",
      "\n",
      "Epoch 00022: val_loss did not improve from 0.52399\n",
      "Epoch 23/30\n",
      "14/14 [==============================] - 26s 2s/step - loss: 11.6355 - categorical_accuracy: 0.9396 - val_loss: 12.0196 - val_categorical_accuracy: 0.8000\n",
      "\n",
      "Epoch 00023: val_loss did not improve from 0.52399\n",
      "Epoch 24/30\n",
      "14/14 [==============================] - 26s 2s/step - loss: 11.4731 - categorical_accuracy: 0.9560 - val_loss: 11.8380 - val_categorical_accuracy: 0.7900\n",
      "\n",
      "Epoch 00024: val_loss did not improve from 0.52399\n",
      "Epoch 25/30\n",
      "14/14 [==============================] - 26s 2s/step - loss: 11.3855 - categorical_accuracy: 0.9286 - val_loss: 11.7018 - val_categorical_accuracy: 0.7900\n",
      "\n",
      "Epoch 00025: val_loss did not improve from 0.52399\n",
      "Epoch 26/30\n",
      "14/14 [==============================] - 26s 2s/step - loss: 11.2455 - categorical_accuracy: 0.9396 - val_loss: 11.5946 - val_categorical_accuracy: 0.7300\n",
      "\n",
      "Epoch 00026: val_loss did not improve from 0.52399\n",
      "Epoch 27/30\n",
      "14/14 [==============================] - 25s 2s/step - loss: 11.1629 - categorical_accuracy: 0.9121 - val_loss: 11.4460 - val_categorical_accuracy: 0.7600\n",
      "\n",
      "Epoch 00027: val_loss did not improve from 0.52399\n",
      "Epoch 28/30\n",
      "14/14 [==============================] - 25s 2s/step - loss: 10.9796 - categorical_accuracy: 0.9231 - val_loss: 11.2689 - val_categorical_accuracy: 0.7700\n",
      "\n",
      "Epoch 00028: val_loss did not improve from 0.52399\n",
      "Epoch 29/30\n",
      "14/14 [==============================] - 27s 2s/step - loss: 10.8260 - categorical_accuracy: 0.9396 - val_loss: 11.3359 - val_categorical_accuracy: 0.7000\n",
      "\n",
      "Epoch 00029: val_loss did not improve from 0.52399\n",
      "Epoch 30/30\n",
      "14/14 [==============================] - 27s 2s/step - loss: 10.7012 - categorical_accuracy: 0.9396 - val_loss: 11.0370 - val_categorical_accuracy: 0.7700\n",
      "\n",
      "Epoch 00030: val_loss did not improve from 0.52399\n",
      "dict_keys(['val_loss', 'val_categorical_accuracy', 'loss', 'categorical_accuracy', 'lr'])\n"
     ]
    },
    {
     "data": {
      "image/png": "[encoded data removed]",
      "text/plain": [
       "<Figure size 432x288 with 1 Axes>"
      ]
     },
     "metadata": {},
     "output_type": "display_data"
    },
    {
     "data": {
      "image/png": "[encoded data removed]",
      "text/plain": [
       "<Figure size 432x288 with 1 Axes>"
      ]
     },
     "metadata": {},
     "output_type": "display_data"
    }
   ],
   "source": [
    "history=model.fit_generator(train_generator, steps_per_epoch=steps_per_epoch, epochs=num_epochs, verbose=1, \n",
    "                    callbacks=callbacks_list, validation_data=val_generator, \n",
    "                    validation_steps=validation_steps, class_weight=None, workers=1, initial_epoch=0)\n",
    "plot_history(history)"
   ]
  },
  {
   "cell_type": "code",
   "execution_count": null,
   "metadata": {},
   "outputs": [],
   "source": []
  },
  {
   "cell_type": "code",
   "execution_count": null,
   "metadata": {},
   "outputs": [],
   "source": []
  },
  {
   "cell_type": "code",
   "execution_count": null,
   "metadata": {},
   "outputs": [],
   "source": []
  },
  {
   "cell_type": "code",
   "execution_count": null,
   "metadata": {},
   "outputs": [],
   "source": []
  }
 ],
 "metadata": {
  "kernelspec": {
   "display_name": "Python 3",
   "language": "python",
   "name": "python3"
  },
  "language_info": {
   "codemirror_mode": {
    "name": "ipython",
    "version": 3
   },
   "file_extension": ".py",
   "mimetype": "text/x-python",
   "name": "python",
   "nbconvert_exporter": "python",
   "pygments_lexer": "ipython3",
   "version": "3.6.8"
  }
 },
 "nbformat": 4,
 "nbformat_minor": 2
}
